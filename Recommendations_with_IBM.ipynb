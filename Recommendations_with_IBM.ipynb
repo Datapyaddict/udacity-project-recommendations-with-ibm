{
 "cells": [
  {
   "cell_type": "markdown",
   "metadata": {},
   "source": [
    "# Recommendations with IBM\n",
    "\n",
    "In this notebook, you will be putting your recommendation skills to use on real data from the IBM Watson Studio platform. \n",
    "\n",
    "\n",
    "You may either submit your notebook through the workspace here, or you may work from your local machine and submit through the next page.  Either way assure that your code passes the project [RUBRIC](https://review.udacity.com/#!/rubrics/3325/view).  **Please save regularly.**\n",
    "\n",
    "By following the table of contents, you will build out a number of different methods for making recommendations that can be used for different situations. \n",
    "\n",
    "\n",
    "## Table of Contents\n",
    "\n",
    "I. [Exploratory Data Analysis](#Exploratory-Data-Analysis)<br>\n",
    "II. [Rank Based Recommendations](#Rank)<br>\n",
    "III. [User-User Based Collaborative Filtering](#User-User)<br>\n",
    "IV. [Content Based Recommendations (EXTRA - NOT REQUIRED)](#Content-Recs)<br>\n",
    "V. [Matrix Factorization](#Matrix-Fact)<br>\n",
    "VI. [Extras & Concluding](#conclusions)\n",
    "\n",
    "At the end of the notebook, you will find directions for how to submit your work.  Let's get started by importing the necessary libraries and reading in the data."
   ]
  },
  {
   "cell_type": "code",
   "execution_count": 1,
   "metadata": {},
   "outputs": [],
   "source": [
    "# the below code is meant to display multiple outputs.\n",
    "from IPython.core.interactiveshell import InteractiveShell\n",
    "InteractiveShell.ast_node_interactivity = \"all\""
   ]
  },
  {
   "cell_type": "code",
   "execution_count": 2,
   "metadata": {},
   "outputs": [
    {
     "data": {
      "text/html": [
       "<div>\n",
       "<style scoped>\n",
       "    .dataframe tbody tr th:only-of-type {\n",
       "        vertical-align: middle;\n",
       "    }\n",
       "\n",
       "    .dataframe tbody tr th {\n",
       "        vertical-align: top;\n",
       "    }\n",
       "\n",
       "    .dataframe thead th {\n",
       "        text-align: right;\n",
       "    }\n",
       "</style>\n",
       "<table border=\"1\" class=\"dataframe\">\n",
       "  <thead>\n",
       "    <tr style=\"text-align: right;\">\n",
       "      <th></th>\n",
       "      <th>article_id</th>\n",
       "      <th>title</th>\n",
       "      <th>email</th>\n",
       "    </tr>\n",
       "  </thead>\n",
       "  <tbody>\n",
       "    <tr>\n",
       "      <th>0</th>\n",
       "      <td>1430.0</td>\n",
       "      <td>using pixiedust for fast, flexible, and easier...</td>\n",
       "      <td>ef5f11f77ba020cd36e1105a00ab868bbdbf7fe7</td>\n",
       "    </tr>\n",
       "    <tr>\n",
       "      <th>1</th>\n",
       "      <td>1314.0</td>\n",
       "      <td>healthcare python streaming application demo</td>\n",
       "      <td>083cbdfa93c8444beaa4c5f5e0f5f9198e4f9e0b</td>\n",
       "    </tr>\n",
       "    <tr>\n",
       "      <th>2</th>\n",
       "      <td>1429.0</td>\n",
       "      <td>use deep learning for image classification</td>\n",
       "      <td>b96a4f2e92d8572034b1e9b28f9ac673765cd074</td>\n",
       "    </tr>\n",
       "    <tr>\n",
       "      <th>3</th>\n",
       "      <td>1338.0</td>\n",
       "      <td>ml optimization using cognitive assistant</td>\n",
       "      <td>06485706b34a5c9bf2a0ecdac41daf7e7654ceb7</td>\n",
       "    </tr>\n",
       "    <tr>\n",
       "      <th>4</th>\n",
       "      <td>1276.0</td>\n",
       "      <td>deploy your python model as a restful api</td>\n",
       "      <td>f01220c46fc92c6e6b161b1849de11faacd7ccb2</td>\n",
       "    </tr>\n",
       "  </tbody>\n",
       "</table>\n",
       "</div>"
      ],
      "text/plain": [
       "   article_id                                              title  \\\n",
       "0      1430.0  using pixiedust for fast, flexible, and easier...   \n",
       "1      1314.0       healthcare python streaming application demo   \n",
       "2      1429.0         use deep learning for image classification   \n",
       "3      1338.0          ml optimization using cognitive assistant   \n",
       "4      1276.0          deploy your python model as a restful api   \n",
       "\n",
       "                                      email  \n",
       "0  ef5f11f77ba020cd36e1105a00ab868bbdbf7fe7  \n",
       "1  083cbdfa93c8444beaa4c5f5e0f5f9198e4f9e0b  \n",
       "2  b96a4f2e92d8572034b1e9b28f9ac673765cd074  \n",
       "3  06485706b34a5c9bf2a0ecdac41daf7e7654ceb7  \n",
       "4  f01220c46fc92c6e6b161b1849de11faacd7ccb2  "
      ]
     },
     "execution_count": 2,
     "metadata": {},
     "output_type": "execute_result"
    }
   ],
   "source": [
    "import pandas as pd\n",
    "import numpy as np\n",
    "import matplotlib.pyplot as plt\n",
    "import project_tests as t\n",
    "import pickle\n",
    "from collections import defaultdict\n",
    "import random\n",
    "\n",
    "\n",
    "%matplotlib inline\n",
    "\n",
    "df = pd.read_csv('data/user-item-interactions.csv')\n",
    "df_content = pd.read_csv('data/articles_community.csv')\n",
    "del df['Unnamed: 0']\n",
    "del df_content['Unnamed: 0']\n",
    "\n",
    "# Show df to get an idea of the data\n",
    "df.head()"
   ]
  },
  {
   "cell_type": "code",
   "execution_count": 3,
   "metadata": {},
   "outputs": [
    {
     "data": {
      "text/html": [
       "<div>\n",
       "<style scoped>\n",
       "    .dataframe tbody tr th:only-of-type {\n",
       "        vertical-align: middle;\n",
       "    }\n",
       "\n",
       "    .dataframe tbody tr th {\n",
       "        vertical-align: top;\n",
       "    }\n",
       "\n",
       "    .dataframe thead th {\n",
       "        text-align: right;\n",
       "    }\n",
       "</style>\n",
       "<table border=\"1\" class=\"dataframe\">\n",
       "  <thead>\n",
       "    <tr style=\"text-align: right;\">\n",
       "      <th></th>\n",
       "      <th>doc_body</th>\n",
       "      <th>doc_description</th>\n",
       "      <th>doc_full_name</th>\n",
       "      <th>doc_status</th>\n",
       "      <th>article_id</th>\n",
       "    </tr>\n",
       "  </thead>\n",
       "  <tbody>\n",
       "    <tr>\n",
       "      <th>0</th>\n",
       "      <td>Skip navigation Sign in SearchLoading...\\r\\n\\r...</td>\n",
       "      <td>Detect bad readings in real time using Python ...</td>\n",
       "      <td>Detect Malfunctioning IoT Sensors with Streami...</td>\n",
       "      <td>Live</td>\n",
       "      <td>0</td>\n",
       "    </tr>\n",
       "    <tr>\n",
       "      <th>1</th>\n",
       "      <td>No Free Hunch Navigation * kaggle.com\\r\\n\\r\\n ...</td>\n",
       "      <td>See the forest, see the trees. Here lies the c...</td>\n",
       "      <td>Communicating data science: A guide to present...</td>\n",
       "      <td>Live</td>\n",
       "      <td>1</td>\n",
       "    </tr>\n",
       "    <tr>\n",
       "      <th>2</th>\n",
       "      <td>☰ * Login\\r\\n * Sign Up\\r\\n\\r\\n * Learning Pat...</td>\n",
       "      <td>Here’s this week’s news in Data Science and Bi...</td>\n",
       "      <td>This Week in Data Science (April 18, 2017)</td>\n",
       "      <td>Live</td>\n",
       "      <td>2</td>\n",
       "    </tr>\n",
       "    <tr>\n",
       "      <th>3</th>\n",
       "      <td>DATALAYER: HIGH THROUGHPUT, LOW LATENCY AT SCA...</td>\n",
       "      <td>Learn how distributed DBs solve the problem of...</td>\n",
       "      <td>DataLayer Conference: Boost the performance of...</td>\n",
       "      <td>Live</td>\n",
       "      <td>3</td>\n",
       "    </tr>\n",
       "    <tr>\n",
       "      <th>4</th>\n",
       "      <td>Skip navigation Sign in SearchLoading...\\r\\n\\r...</td>\n",
       "      <td>This video demonstrates the power of IBM DataS...</td>\n",
       "      <td>Analyze NY Restaurant data using Spark in DSX</td>\n",
       "      <td>Live</td>\n",
       "      <td>4</td>\n",
       "    </tr>\n",
       "    <tr>\n",
       "      <th>5</th>\n",
       "      <td>Compose is all about immediacy. You want a new...</td>\n",
       "      <td>Using Compose's PostgreSQL data browser.</td>\n",
       "      <td>Browsing PostgreSQL Data with Compose</td>\n",
       "      <td>Live</td>\n",
       "      <td>5</td>\n",
       "    </tr>\n",
       "    <tr>\n",
       "      <th>6</th>\n",
       "      <td>UPGRADING YOUR POSTGRESQL TO 9.5Share on Twitt...</td>\n",
       "      <td>Upgrading your PostgreSQL deployment to versio...</td>\n",
       "      <td>Upgrading your PostgreSQL to 9.5</td>\n",
       "      <td>Live</td>\n",
       "      <td>6</td>\n",
       "    </tr>\n",
       "    <tr>\n",
       "      <th>7</th>\n",
       "      <td>Follow Sign in / Sign up 135 8 * Share\\r\\n * 1...</td>\n",
       "      <td>For a company like Slack that strives to be as...</td>\n",
       "      <td>Data Wrangling at Slack</td>\n",
       "      <td>Live</td>\n",
       "      <td>7</td>\n",
       "    </tr>\n",
       "    <tr>\n",
       "      <th>8</th>\n",
       "      <td>* Host\\r\\n * Competitions\\r\\n * Datasets\\r\\n *...</td>\n",
       "      <td>Kaggle is your home for data science. Learn ne...</td>\n",
       "      <td>Data Science Bowl 2017</td>\n",
       "      <td>Live</td>\n",
       "      <td>8</td>\n",
       "    </tr>\n",
       "    <tr>\n",
       "      <th>9</th>\n",
       "      <td>THE GRADIENT FLOW\\r\\nDATA / TECHNOLOGY / CULTU...</td>\n",
       "      <td>[A version of this post appears on the O’Reill...</td>\n",
       "      <td>Using Apache Spark to predict attack vectors a...</td>\n",
       "      <td>Live</td>\n",
       "      <td>9</td>\n",
       "    </tr>\n",
       "  </tbody>\n",
       "</table>\n",
       "</div>"
      ],
      "text/plain": [
       "                                            doc_body  \\\n",
       "0  Skip navigation Sign in SearchLoading...\\r\\n\\r...   \n",
       "1  No Free Hunch Navigation * kaggle.com\\r\\n\\r\\n ...   \n",
       "2  ☰ * Login\\r\\n * Sign Up\\r\\n\\r\\n * Learning Pat...   \n",
       "3  DATALAYER: HIGH THROUGHPUT, LOW LATENCY AT SCA...   \n",
       "4  Skip navigation Sign in SearchLoading...\\r\\n\\r...   \n",
       "5  Compose is all about immediacy. You want a new...   \n",
       "6  UPGRADING YOUR POSTGRESQL TO 9.5Share on Twitt...   \n",
       "7  Follow Sign in / Sign up 135 8 * Share\\r\\n * 1...   \n",
       "8  * Host\\r\\n * Competitions\\r\\n * Datasets\\r\\n *...   \n",
       "9  THE GRADIENT FLOW\\r\\nDATA / TECHNOLOGY / CULTU...   \n",
       "\n",
       "                                     doc_description  \\\n",
       "0  Detect bad readings in real time using Python ...   \n",
       "1  See the forest, see the trees. Here lies the c...   \n",
       "2  Here’s this week’s news in Data Science and Bi...   \n",
       "3  Learn how distributed DBs solve the problem of...   \n",
       "4  This video demonstrates the power of IBM DataS...   \n",
       "5           Using Compose's PostgreSQL data browser.   \n",
       "6  Upgrading your PostgreSQL deployment to versio...   \n",
       "7  For a company like Slack that strives to be as...   \n",
       "8  Kaggle is your home for data science. Learn ne...   \n",
       "9  [A version of this post appears on the O’Reill...   \n",
       "\n",
       "                                       doc_full_name doc_status  article_id  \n",
       "0  Detect Malfunctioning IoT Sensors with Streami...       Live           0  \n",
       "1  Communicating data science: A guide to present...       Live           1  \n",
       "2         This Week in Data Science (April 18, 2017)       Live           2  \n",
       "3  DataLayer Conference: Boost the performance of...       Live           3  \n",
       "4      Analyze NY Restaurant data using Spark in DSX       Live           4  \n",
       "5              Browsing PostgreSQL Data with Compose       Live           5  \n",
       "6                   Upgrading your PostgreSQL to 9.5       Live           6  \n",
       "7                            Data Wrangling at Slack       Live           7  \n",
       "8                             Data Science Bowl 2017       Live           8  \n",
       "9  Using Apache Spark to predict attack vectors a...       Live           9  "
      ]
     },
     "execution_count": 3,
     "metadata": {},
     "output_type": "execute_result"
    }
   ],
   "source": [
    "# Show df_content to get an idea of the data\n",
    "df_content.head(10)"
   ]
  },
  {
   "cell_type": "markdown",
   "metadata": {},
   "source": [
    "### <a class=\"anchor\" id=\"Exploratory-Data-Analysis\">Part I : Exploratory Data Analysis</a>\n",
    "\n",
    "Use the dictionary and cells below to provide some insight into the descriptive statistics of the data.\n",
    "\n",
    "`1.` What is the distribution of how many articles a user interacts with in the dataset?  Provide a visual and descriptive statistics to assist with giving a look at the number of times each user interacts with an article.  "
   ]
  },
  {
   "cell_type": "code",
   "execution_count": 4,
   "metadata": {},
   "outputs": [
    {
     "data": {
      "text/html": [
       "<div>\n",
       "<style scoped>\n",
       "    .dataframe tbody tr th:only-of-type {\n",
       "        vertical-align: middle;\n",
       "    }\n",
       "\n",
       "    .dataframe tbody tr th {\n",
       "        vertical-align: top;\n",
       "    }\n",
       "\n",
       "    .dataframe thead th {\n",
       "        text-align: right;\n",
       "    }\n",
       "</style>\n",
       "<table border=\"1\" class=\"dataframe\">\n",
       "  <thead>\n",
       "    <tr style=\"text-align: right;\">\n",
       "      <th></th>\n",
       "      <th>count_views</th>\n",
       "    </tr>\n",
       "  </thead>\n",
       "  <tbody>\n",
       "    <tr>\n",
       "      <th>count</th>\n",
       "      <td>5148.000000</td>\n",
       "    </tr>\n",
       "    <tr>\n",
       "      <th>mean</th>\n",
       "      <td>8.930847</td>\n",
       "    </tr>\n",
       "    <tr>\n",
       "      <th>std</th>\n",
       "      <td>16.802267</td>\n",
       "    </tr>\n",
       "    <tr>\n",
       "      <th>min</th>\n",
       "      <td>1.000000</td>\n",
       "    </tr>\n",
       "    <tr>\n",
       "      <th>25%</th>\n",
       "      <td>1.000000</td>\n",
       "    </tr>\n",
       "    <tr>\n",
       "      <th>50%</th>\n",
       "      <td>3.000000</td>\n",
       "    </tr>\n",
       "    <tr>\n",
       "      <th>75%</th>\n",
       "      <td>9.000000</td>\n",
       "    </tr>\n",
       "    <tr>\n",
       "      <th>max</th>\n",
       "      <td>364.000000</td>\n",
       "    </tr>\n",
       "  </tbody>\n",
       "</table>\n",
       "</div>"
      ],
      "text/plain": [
       "       count_views\n",
       "count  5148.000000\n",
       "mean      8.930847\n",
       "std      16.802267\n",
       "min       1.000000\n",
       "25%       1.000000\n",
       "50%       3.000000\n",
       "75%       9.000000\n",
       "max     364.000000"
      ]
     },
     "execution_count": 4,
     "metadata": {},
     "output_type": "execute_result"
    }
   ],
   "source": [
    "df_distribution = df.groupby('email').agg({'article_id': 'count'}).\\\n",
    "rename(columns = {'article_id' :'count_views'}).\\\n",
    "sort_values('count_views')\n",
    "\n",
    "df_distribution.describe()"
   ]
  },
  {
   "cell_type": "code",
   "execution_count": 5,
   "metadata": {},
   "outputs": [],
   "source": [
    "# Fill in the median and maximum number of user_article interactios below\n",
    "\n",
    "median_val = df_distribution.describe().loc['50%','count_views'] # 50% of individuals interact with 3 number of articles or fewer.\n",
    "max_views_by_user = df_distribution.describe().loc['max','count_views']# The maximum number of user-article interactions by any 1 user is 364.\n"
   ]
  },
  {
   "cell_type": "code",
   "execution_count": 6,
   "metadata": {},
   "outputs": [
    {
     "data": {
      "text/plain": [
       "3.0"
      ]
     },
     "execution_count": 6,
     "metadata": {},
     "output_type": "execute_result"
    },
    {
     "data": {
      "text/plain": [
       "364.0"
      ]
     },
     "execution_count": 6,
     "metadata": {},
     "output_type": "execute_result"
    }
   ],
   "source": [
    "median_val\n",
    "max_views_by_user"
   ]
  },
  {
   "cell_type": "code",
   "execution_count": 7,
   "metadata": {},
   "outputs": [
    {
     "data": {
      "text/plain": [
       "array([[<matplotlib.axes._subplots.AxesSubplot object at 0x7f1c07d70438>]], dtype=object)"
      ]
     },
     "execution_count": 7,
     "metadata": {},
     "output_type": "execute_result"
    },
    {
     "data": {
      "text/plain": [
       "Text(0.5,1,'distribution of number of articles viewed by user')"
      ]
     },
     "execution_count": 7,
     "metadata": {},
     "output_type": "execute_result"
    },
    {
     "data": {
      "text/plain": [
       "Text(0,0.5,'frequency')"
      ]
     },
     "execution_count": 7,
     "metadata": {},
     "output_type": "execute_result"
    },
    {
     "data": {
      "text/plain": [
       "Text(0.5,0,'number of articles viewed')"
      ]
     },
     "execution_count": 7,
     "metadata": {},
     "output_type": "execute_result"
    },
    {
     "data": {
      "image/png": "[encoded data removed]",
      "text/plain": [
       "<matplotlib.figure.Figure at 0x7f1c07dbbc88>"
      ]
     },
     "metadata": {
      "needs_background": "light"
     },
     "output_type": "display_data"
    }
   ],
   "source": [
    "# fig = plt.figure()\n",
    "# ax = fig.add_subplot(111)\n",
    "df_distribution.reset_index(drop = True).hist(color = 'g', alpha = .6)\n",
    "plt.title('distribution of number of articles viewed by user')\n",
    "plt.ylabel('frequency')\n",
    "plt.xlabel('number of articles viewed')"
   ]
  },
  {
   "cell_type": "markdown",
   "metadata": {},
   "source": [
    "`2.` Explore and remove duplicate articles from the **df_content** dataframe.  "
   ]
  },
  {
   "cell_type": "code",
   "execution_count": 8,
   "metadata": {},
   "outputs": [
    {
     "data": {
      "text/plain": [
       "(1056, 5)"
      ]
     },
     "execution_count": 8,
     "metadata": {},
     "output_type": "execute_result"
    },
    {
     "name": "stdout",
     "output_type": "stream",
     "text": [
      "number of duplicates : 0\n"
     ]
    }
   ],
   "source": [
    "#explore data\n",
    "df_content_copy = df_content.copy()\n",
    "df_content_copy.shape\n",
    "\n",
    "#remove duplicates\n",
    "duplicates = df_content_copy[df_content_copy.duplicated()].shape[0]\n",
    "print('number of duplicates : {}'.format(duplicates))\n",
    "df_content_copy.drop_duplicates(inplace = True)\n",
    "\n"
   ]
  },
  {
   "cell_type": "code",
   "execution_count": 9,
   "metadata": {},
   "outputs": [
    {
     "name": "stdout",
     "output_type": "stream",
     "text": [
      "number of article_id duplicates : 5. Let's remove them!\n"
     ]
    },
    {
     "data": {
      "text/html": [
       "<div>\n",
       "<style scoped>\n",
       "    .dataframe tbody tr th:only-of-type {\n",
       "        vertical-align: middle;\n",
       "    }\n",
       "\n",
       "    .dataframe tbody tr th {\n",
       "        vertical-align: top;\n",
       "    }\n",
       "\n",
       "    .dataframe thead th {\n",
       "        text-align: right;\n",
       "    }\n",
       "</style>\n",
       "<table border=\"1\" class=\"dataframe\">\n",
       "  <thead>\n",
       "    <tr style=\"text-align: right;\">\n",
       "      <th></th>\n",
       "      <th>doc_body</th>\n",
       "      <th>doc_description</th>\n",
       "      <th>doc_full_name</th>\n",
       "      <th>doc_status</th>\n",
       "      <th>article_id</th>\n",
       "    </tr>\n",
       "  </thead>\n",
       "  <tbody>\n",
       "    <tr>\n",
       "      <th>365</th>\n",
       "      <td>Follow Sign in / Sign up Home About Insight Da...</td>\n",
       "      <td>During the seven-week Insight Data Engineering...</td>\n",
       "      <td>Graph-based machine learning</td>\n",
       "      <td>Live</td>\n",
       "      <td>50</td>\n",
       "    </tr>\n",
       "    <tr>\n",
       "      <th>692</th>\n",
       "      <td>Homepage Follow Sign in / Sign up Homepage * H...</td>\n",
       "      <td>One of the earliest documented catalogs was co...</td>\n",
       "      <td>How smart catalogs can turn the big data flood...</td>\n",
       "      <td>Live</td>\n",
       "      <td>221</td>\n",
       "    </tr>\n",
       "    <tr>\n",
       "      <th>761</th>\n",
       "      <td>Homepage Follow Sign in Get started Homepage *...</td>\n",
       "      <td>Today’s world of data science leverages data f...</td>\n",
       "      <td>Using Apache Spark as a parallel processing fr...</td>\n",
       "      <td>Live</td>\n",
       "      <td>398</td>\n",
       "    </tr>\n",
       "    <tr>\n",
       "      <th>970</th>\n",
       "      <td>This video shows you how to construct queries ...</td>\n",
       "      <td>This video shows you how to construct queries ...</td>\n",
       "      <td>Use the Primary Index</td>\n",
       "      <td>Live</td>\n",
       "      <td>577</td>\n",
       "    </tr>\n",
       "    <tr>\n",
       "      <th>971</th>\n",
       "      <td>Homepage Follow Sign in Get started * Home\\r\\n...</td>\n",
       "      <td>If you are like most data scientists, you are ...</td>\n",
       "      <td>Self-service data preparation with IBM Data Re...</td>\n",
       "      <td>Live</td>\n",
       "      <td>232</td>\n",
       "    </tr>\n",
       "  </tbody>\n",
       "</table>\n",
       "</div>"
      ],
      "text/plain": [
       "                                              doc_body  \\\n",
       "365  Follow Sign in / Sign up Home About Insight Da...   \n",
       "692  Homepage Follow Sign in / Sign up Homepage * H...   \n",
       "761  Homepage Follow Sign in Get started Homepage *...   \n",
       "970  This video shows you how to construct queries ...   \n",
       "971  Homepage Follow Sign in Get started * Home\\r\\n...   \n",
       "\n",
       "                                       doc_description  \\\n",
       "365  During the seven-week Insight Data Engineering...   \n",
       "692  One of the earliest documented catalogs was co...   \n",
       "761  Today’s world of data science leverages data f...   \n",
       "970  This video shows you how to construct queries ...   \n",
       "971  If you are like most data scientists, you are ...   \n",
       "\n",
       "                                         doc_full_name doc_status  article_id  \n",
       "365                       Graph-based machine learning       Live          50  \n",
       "692  How smart catalogs can turn the big data flood...       Live         221  \n",
       "761  Using Apache Spark as a parallel processing fr...       Live         398  \n",
       "970                              Use the Primary Index       Live         577  \n",
       "971  Self-service data preparation with IBM Data Re...       Live         232  "
      ]
     },
     "execution_count": 9,
     "metadata": {},
     "output_type": "execute_result"
    },
    {
     "data": {
      "text/plain": [
       "(1051, 5)"
      ]
     },
     "execution_count": 9,
     "metadata": {},
     "output_type": "execute_result"
    }
   ],
   "source": [
    "# Remove any rows that have the same article_id - only keep the first\n",
    "article_id_duplicated = df_content_copy[df_content_copy.article_id.duplicated()].article_id.tolist()\n",
    "print(\"number of article_id duplicates : {}. Let's remove them!\".format(len(article_id_duplicated)))\n",
    "df_content_copy[df_content_copy.article_id.duplicated()]\n",
    "df_content_copy = df_content_copy.drop_duplicates(subset=['article_id'], keep='first')\n",
    "df_content_copy.shape"
   ]
  },
  {
   "cell_type": "markdown",
   "metadata": {},
   "source": [
    "`3.` Use the cells below to find:\n",
    "\n",
    "**a.** The number of unique articles that have an interaction with a user.  \n",
    "**b.** The number of unique articles in the dataset (whether they have any interactions or not).<br>\n",
    "**c.** The number of unique users in the dataset. (excluding null values) <br>\n",
    "**d.** The number of user-article interactions in the dataset."
   ]
  },
  {
   "cell_type": "code",
   "execution_count": 10,
   "metadata": {},
   "outputs": [
    {
     "data": {
      "text/plain": [
       "714"
      ]
     },
     "execution_count": 10,
     "metadata": {},
     "output_type": "execute_result"
    }
   ],
   "source": [
    "#The number of unique articles that have an interaction with a user\n",
    "\n",
    "df_copy = df.copy()\n",
    "df_copy.article_id.nunique()"
   ]
  },
  {
   "cell_type": "code",
   "execution_count": 11,
   "metadata": {},
   "outputs": [
    {
     "data": {
      "text/plain": [
       "1051"
      ]
     },
     "execution_count": 11,
     "metadata": {},
     "output_type": "execute_result"
    }
   ],
   "source": [
    "#The number of unique articles in the dataset (whether they have any interactions or not)\n",
    "df_content_copy.article_id.nunique()"
   ]
  },
  {
   "cell_type": "code",
   "execution_count": 12,
   "metadata": {},
   "outputs": [
    {
     "data": {
      "text/plain": [
       "17"
      ]
     },
     "execution_count": 12,
     "metadata": {},
     "output_type": "execute_result"
    },
    {
     "data": {
      "text/plain": [
       "0"
      ]
     },
     "execution_count": 12,
     "metadata": {},
     "output_type": "execute_result"
    },
    {
     "data": {
      "text/plain": [
       "5148"
      ]
     },
     "execution_count": 12,
     "metadata": {},
     "output_type": "execute_result"
    }
   ],
   "source": [
    "#The number of unique users in the dataset. (excluding null values)\n",
    "df_copy.email.isnull().sum()\n",
    "df_copy.article_id.isnull().sum()\n",
    "df_copy.email.nunique()"
   ]
  },
  {
   "cell_type": "code",
   "execution_count": 13,
   "metadata": {},
   "outputs": [
    {
     "data": {
      "text/plain": [
       "45993"
      ]
     },
     "execution_count": 13,
     "metadata": {},
     "output_type": "execute_result"
    }
   ],
   "source": [
    "#The number of user-article interactions in the dataset\n",
    "df_copy.shape[0]"
   ]
  },
  {
   "cell_type": "code",
   "execution_count": 14,
   "metadata": {},
   "outputs": [],
   "source": [
    "unique_articles = df_copy.article_id.nunique() # The number of unique articles that have at least one interaction\n",
    "\n",
    "total_articles = df_content_copy.article_id.nunique() # The number of unique articles on the IBM platform\n",
    "\n",
    "unique_users = df_copy.email.nunique() # The number of unique users\n",
    "\n",
    "user_article_interactions = df_copy.shape[0] # The number of user-article interactions\n"
   ]
  },
  {
   "cell_type": "markdown",
   "metadata": {},
   "source": [
    "`4.` Use the cells below to find the most viewed **article_id**, as well as how often it was viewed.  After talking to the company leaders, the `email_mapper` function was deemed a reasonable way to map users to ids.  There were a small number of null values, and it was found that all of these null values likely belonged to a single user (which is how they are stored using the function below)."
   ]
  },
  {
   "cell_type": "code",
   "execution_count": 15,
   "metadata": {},
   "outputs": [
    {
     "data": {
      "text/plain": [
       "1429.0"
      ]
     },
     "execution_count": 15,
     "metadata": {},
     "output_type": "execute_result"
    },
    {
     "data": {
      "text/plain": [
       "937"
      ]
     },
     "execution_count": 15,
     "metadata": {},
     "output_type": "execute_result"
    }
   ],
   "source": [
    "ranking = df_copy.groupby('article_id').agg({'email' : 'count'}).\\\n",
    "rename(columns = {'email' : 'views_count'}).\\\n",
    "sort_values('views_count',ascending = False).reset_index().iloc[:2]\n",
    "\n",
    "most_viewed_article_id = ranking.article_id[0]\n",
    "most_viewed_article_id\n",
    "\n",
    "frequence_of_views = ranking.views_count[0]\n",
    "frequence_of_views"
   ]
  },
  {
   "cell_type": "code",
   "execution_count": 16,
   "metadata": {},
   "outputs": [],
   "source": [
    "most_viewed_article_id = str(ranking.article_id[0])# The most viewed article in the dataset as a string with one value following the decimal \n",
    "\n",
    "max_views = ranking.views_count[0]# The most viewed article in the dataset was viewed how many times?\n"
   ]
  },
  {
   "cell_type": "code",
   "execution_count": 17,
   "metadata": {},
   "outputs": [
    {
     "data": {
      "text/html": [
       "<div>\n",
       "<style scoped>\n",
       "    .dataframe tbody tr th:only-of-type {\n",
       "        vertical-align: middle;\n",
       "    }\n",
       "\n",
       "    .dataframe tbody tr th {\n",
       "        vertical-align: top;\n",
       "    }\n",
       "\n",
       "    .dataframe thead th {\n",
       "        text-align: right;\n",
       "    }\n",
       "</style>\n",
       "<table border=\"1\" class=\"dataframe\">\n",
       "  <thead>\n",
       "    <tr style=\"text-align: right;\">\n",
       "      <th></th>\n",
       "      <th>article_id</th>\n",
       "      <th>title</th>\n",
       "      <th>user_id</th>\n",
       "    </tr>\n",
       "  </thead>\n",
       "  <tbody>\n",
       "    <tr>\n",
       "      <th>0</th>\n",
       "      <td>1430.0</td>\n",
       "      <td>using pixiedust for fast, flexible, and easier...</td>\n",
       "      <td>1</td>\n",
       "    </tr>\n",
       "    <tr>\n",
       "      <th>1</th>\n",
       "      <td>1314.0</td>\n",
       "      <td>healthcare python streaming application demo</td>\n",
       "      <td>2</td>\n",
       "    </tr>\n",
       "    <tr>\n",
       "      <th>2</th>\n",
       "      <td>1429.0</td>\n",
       "      <td>use deep learning for image classification</td>\n",
       "      <td>3</td>\n",
       "    </tr>\n",
       "    <tr>\n",
       "      <th>3</th>\n",
       "      <td>1338.0</td>\n",
       "      <td>ml optimization using cognitive assistant</td>\n",
       "      <td>4</td>\n",
       "    </tr>\n",
       "    <tr>\n",
       "      <th>4</th>\n",
       "      <td>1276.0</td>\n",
       "      <td>deploy your python model as a restful api</td>\n",
       "      <td>5</td>\n",
       "    </tr>\n",
       "  </tbody>\n",
       "</table>\n",
       "</div>"
      ],
      "text/plain": [
       "   article_id                                              title  user_id\n",
       "0      1430.0  using pixiedust for fast, flexible, and easier...        1\n",
       "1      1314.0       healthcare python streaming application demo        2\n",
       "2      1429.0         use deep learning for image classification        3\n",
       "3      1338.0          ml optimization using cognitive assistant        4\n",
       "4      1276.0          deploy your python model as a restful api        5"
      ]
     },
     "execution_count": 17,
     "metadata": {},
     "output_type": "execute_result"
    }
   ],
   "source": [
    "## No need to change the code here - this will be helpful for later parts of the notebook\n",
    "# Run this cell to map the user email to a user_id column and remove the email column\n",
    "\n",
    "def email_mapper():\n",
    "    coded_dict = dict()\n",
    "    cter = 1\n",
    "    email_encoded = []\n",
    "    \n",
    "    for val in df['email']:\n",
    "        if val not in coded_dict:\n",
    "            coded_dict[val] = cter\n",
    "            cter+=1\n",
    "        \n",
    "        email_encoded.append(coded_dict[val])\n",
    "    return email_encoded\n",
    "\n",
    "email_encoded = email_mapper()\n",
    "del df['email']\n",
    "df['user_id'] = email_encoded\n",
    "\n",
    "# show header\n",
    "df.head()"
   ]
  },
  {
   "cell_type": "code",
   "execution_count": 18,
   "metadata": {},
   "outputs": [
    {
     "name": "stdout",
     "output_type": "stream",
     "text": [
      "It looks like you have everything right here! Nice job!\n"
     ]
    }
   ],
   "source": [
    "## If you stored all your results in the variable names above, \n",
    "## you shouldn't need to change anything in this cell\n",
    "\n",
    "sol_1_dict = {\n",
    "    '`50% of individuals have _____ or fewer interactions.`': median_val,\n",
    "    '`The total number of user-article interactions in the dataset is ______.`': user_article_interactions,\n",
    "    '`The maximum number of user-article interactions by any 1 user is ______.`': max_views_by_user,\n",
    "    '`The most viewed article in the dataset was viewed _____ times.`': max_views,\n",
    "    '`The article_id of the most viewed article is ______.`': most_viewed_article_id,\n",
    "    '`The number of unique articles that have at least 1 rating ______.`': unique_articles,\n",
    "    '`The number of unique users in the dataset is ______`': unique_users,\n",
    "    '`The number of unique articles on the IBM platform`': total_articles\n",
    "}\n",
    "\n",
    "# Test your dictionary against the solution\n",
    "t.sol_1_test(sol_1_dict)"
   ]
  },
  {
   "cell_type": "markdown",
   "metadata": {},
   "source": [
    "### <a class=\"anchor\" id=\"Rank\">Part II: Rank-Based Recommendations</a>\n",
    "\n",
    "Unlike in the earlier lessons, we don't actually have ratings for whether a user liked an article or not.  We only know that a user has interacted with an article.  In these cases, the popularity of an article can really only be based on how often an article was interacted with.\n",
    "\n",
    "`1.` Fill in the function below to return the **n** top articles ordered with most interactions as the top. Test your function using the tests below."
   ]
  },
  {
   "cell_type": "code",
   "execution_count": 19,
   "metadata": {},
   "outputs": [],
   "source": [
    "def get_top_articles(n, df=df):\n",
    "    '''\n",
    "    INPUT:\n",
    "    n - (int) the number of top articles to return\n",
    "    df - (pandas dataframe) df as defined at the top of the notebook \n",
    "    \n",
    "    OUTPUT:\n",
    "    top_articles - (list) A list of the top 'n' article titles \n",
    "    \n",
    "    '''\n",
    "\n",
    "    top_articles = df.groupby('title').agg({'user_id' : 'count'}).\\\n",
    "    rename(columns = {'user_id' : 'views_count'}).\\\n",
    "    sort_values('views_count',ascending = False).reset_index().title[:n]\n",
    "    \n",
    "    top_articles = [val for val in top_articles ]\n",
    "    \n",
    "    \n",
    "    \n",
    "    return top_articles # Return the top article titles from df (not df_content)\n",
    "\n",
    "def get_top_article_ids(n, df=df):\n",
    "    '''\n",
    "    INPUT:\n",
    "    n - (int) the number of top articles to return\n",
    "    df - (pandas dataframe) df as defined at the top of the notebook \n",
    "    \n",
    "    OUTPUT:\n",
    "    top_articles - (list) A list of the top 'n' article titles \n",
    "    \n",
    "    '''\n",
    "    top_article_ids = list(df.groupby('article_id').agg({'user_id' : 'count'}).\\\n",
    "    rename(columns = {'user_id' : 'views_count'}).\\\n",
    "    sort_values('views_count',ascending = False).reset_index().article_id[:n])\n",
    "    \n",
    "    top_article_ids = [val for val in top_article_ids ]\n",
    " \n",
    "    return top_article_ids # Return the top article ids"
   ]
  },
  {
   "cell_type": "code",
   "execution_count": 20,
   "metadata": {},
   "outputs": [
    {
     "name": "stdout",
     "output_type": "stream",
     "text": [
      "['use deep learning for image classification', 'insights from new york car accident reports', 'visualize car data with brunel', 'use xgboost, scikit-learn & ibm watson machine learning apis', 'predicting churn with the spss random tree algorithm', 'healthcare python streaming application demo', 'finding optimal locations of new store using decision optimization', 'apache spark lab, part 1: basic concepts', 'analyze energy consumption in buildings', 'gosales transactions for logistic regression model']\n",
      "[1429.0, 1330.0, 1431.0, 1427.0, 1364.0, 1314.0, 1293.0, 1170.0, 1162.0, 1304.0]\n"
     ]
    }
   ],
   "source": [
    "print(get_top_articles(10))\n",
    "print(get_top_article_ids(10))"
   ]
  },
  {
   "cell_type": "code",
   "execution_count": 21,
   "metadata": {},
   "outputs": [
    {
     "name": "stdout",
     "output_type": "stream",
     "text": [
      "Your top_5 looks like the solution list! Nice job.\n",
      "Your top_10 looks like the solution list! Nice job.\n",
      "Your top_20 looks like the solution list! Nice job.\n"
     ]
    }
   ],
   "source": [
    "# Test your function by returning the top 5, 10, and 20 articles\n",
    "top_5 = get_top_articles(5)\n",
    "top_10 = get_top_articles(10)\n",
    "top_20 = get_top_articles(20)\n",
    "\n",
    "# Test each of your three lists from above\n",
    "t.sol_2_test(get_top_articles)"
   ]
  },
  {
   "cell_type": "markdown",
   "metadata": {},
   "source": [
    "### <a class=\"anchor\" id=\"User-User\">Part III: User-User Based Collaborative Filtering</a>\n",
    "\n",
    "\n",
    "`1.` Use the function below to reformat the **df** dataframe to be shaped with users as the rows and articles as the columns.  \n",
    "\n",
    "* Each **user** should only appear in each **row** once.\n",
    "\n",
    "\n",
    "* Each **article** should only show up in one **column**.  \n",
    "\n",
    "\n",
    "* **If a user has interacted with an article, then place a 1 where the user-row meets for that article-column**.  It does not matter how many times a user has interacted with the article, all entries where a user has interacted with an article should be a 1.  \n",
    "\n",
    "\n",
    "* **If a user has not interacted with an item, then place a zero where the user-row meets for that article-column**. \n",
    "\n",
    "Use the tests to make sure the basic structure of your matrix matches what is expected by the solution."
   ]
  },
  {
   "cell_type": "code",
   "execution_count": 22,
   "metadata": {},
   "outputs": [],
   "source": [
    "# create the user-article matrix with 1's and 0's\n",
    "\n",
    "def create_user_item_matrix(df):\n",
    "    '''\n",
    "    INPUT:\n",
    "    df - pandas dataframe with article_id, title, user_id columns\n",
    "    \n",
    "    OUTPUT:\n",
    "    user_item - user item matrix \n",
    "    \n",
    "    Description:\n",
    "    Return a matrix with user ids as rows and article ids on the columns with 1 values where a user interacted with \n",
    "    an article and a 0 otherwise\n",
    "    '''\n",
    "    user_item = df.groupby(['user_id','article_id']).min().reset_index()[['user_id','article_id']]\n",
    "    user_item['value'] = 1\n",
    "    user_item = user_item.groupby(['user_id','article_id']).min()['value'].unstack()\n",
    "    user_item = user_item.fillna(0).astype('int32')\n",
    "    return user_item # return the user_item matrix \n",
    "\n",
    "user_item = create_user_item_matrix(df)"
   ]
  },
  {
   "cell_type": "code",
   "execution_count": 23,
   "metadata": {},
   "outputs": [
    {
     "name": "stdout",
     "output_type": "stream",
     "text": [
      "You have passed our quick tests!  Please proceed!\n"
     ]
    }
   ],
   "source": [
    "## Tests: You should just need to run this cell.  Don't change the code.\n",
    "assert user_item.shape[0] == 5149, \"Oops!  The number of users in the user-article matrix doesn't look right.\"\n",
    "assert user_item.shape[1] == 714, \"Oops!  The number of articles in the user-article matrix doesn't look right.\"\n",
    "assert user_item.sum(axis=1)[1] == 36, \"Oops!  The number of articles seen by user 1 doesn't look right.\"\n",
    "print(\"You have passed our quick tests!  Please proceed!\")"
   ]
  },
  {
   "cell_type": "markdown",
   "metadata": {},
   "source": [
    "`2.` Complete the function below which should take a user_id and provide an ordered list of the most similar users to that user (from most similar to least similar).  The returned result should not contain the provided user_id, as we know that each user is similar to him/herself. Because the results for each user here are binary, it (perhaps) makes sense to compute similarity as the dot product of two users. \n",
    "\n",
    "Use the tests to test your function."
   ]
  },
  {
   "cell_type": "code",
   "execution_count": 24,
   "metadata": {},
   "outputs": [],
   "source": [
    "def find_similar_users(user_id, user_item=user_item):\n",
    "    '''\n",
    "    INPUT:\n",
    "    user_id - (int) a user_id\n",
    "    user_item - (pandas dataframe) matrix of users by articles: \n",
    "                1's when a user has interacted with an article, 0 otherwise\n",
    "    \n",
    "    OUTPUT:\n",
    "    similar_users - (list) an ordered list where the closest users (largest dot product users)\n",
    "                    are listed first\n",
    "    \n",
    "    Description:\n",
    "    Computes the similarity of every pair of users based on the dot product\n",
    "    Returns an ordered\n",
    "    \n",
    "    '''\n",
    "    # compute similarity of each user to a given user\n",
    "    most_similar_users = user_item.loc[user_id].dot(np.transpose(user_item))\n",
    "    \n",
    "    # sort by similarity\n",
    "    most_similar_users = most_similar_users[most_similar_users!=0].\\\n",
    "        sort_values(ascending = False)\n",
    "\n",
    "    # remove the own user's id\n",
    "    most_similar_users = most_similar_users[most_similar_users.index !=user_id].index.values.tolist()\n",
    "\n",
    "    \n",
    "    return most_similar_users # return a list of the users in order from most to least similar\n",
    "        "
   ]
  },
  {
   "cell_type": "code",
   "execution_count": 25,
   "metadata": {},
   "outputs": [
    {
     "name": "stdout",
     "output_type": "stream",
     "text": [
      "The 10 most similar users to user 1 are: [3933, 23, 3782, 4459, 203, 3870, 131, 46, 4201, 395]\n",
      "The 5 most similar users to user 3933 are: [1, 23, 3782, 203, 4459]\n",
      "The 3 most similar users to user 46 are: [4201, 3782, 23]\n"
     ]
    }
   ],
   "source": [
    "# Do a spot check of your function\n",
    "print(\"The 10 most similar users to user 1 are: {}\".format(find_similar_users(1)[:10]))\n",
    "print(\"The 5 most similar users to user 3933 are: {}\".format(find_similar_users(3933)[:5]))\n",
    "print(\"The 3 most similar users to user 46 are: {}\".format(find_similar_users(46)[:3]))"
   ]
  },
  {
   "cell_type": "markdown",
   "metadata": {},
   "source": [
    "`3.` Now that you have a function that provides the most similar users to each user, you will want to use these users to find articles you can recommend.  Complete the functions below to return the articles you would recommend to each user. "
   ]
  },
  {
   "cell_type": "code",
   "execution_count": 26,
   "metadata": {},
   "outputs": [],
   "source": [
    "def get_article_names(article_ids, df=df):\n",
    "    '''\n",
    "    INPUT:\n",
    "    article_ids - (list) a list of article ids\n",
    "    df - (pandas dataframe) df as defined at the top of the notebook\n",
    "    \n",
    "    OUTPUT:\n",
    "    article_names - (list) a list of article names associated with the list of article ids \n",
    "                    (this is identified by the title column)\n",
    "    '''\n",
    "    article_names = list(df[df.article_id.astype('str').isin(article_ids)].\\\n",
    "        groupby('article_id').title.max())\n",
    "    \n",
    "    return article_names # Return the article names associated with list of article ids\n",
    "\n",
    "\n",
    "def get_user_articles(user_id, user_item=user_item):\n",
    "    '''\n",
    "    INPUT:\n",
    "    user_id - (int) a user id\n",
    "    user_item - (pandas dataframe) matrix of users by articles: \n",
    "                1's when a user has interacted with an article, 0 otherwise\n",
    "    \n",
    "    OUTPUT:\n",
    "    article_ids - (list) a list of the article ids seen by the user\n",
    "    article_names - (list) a list of article names associated with the list of article ids \n",
    "                    (this is identified by the doc_full_name column in df_content)\n",
    "    \n",
    "    Description:\n",
    "    Provides a list of the article_ids and article titles that have been seen by a user\n",
    "    '''\n",
    "    article_ids_idx = list(np.where(user_item.loc[user_id]==np.max(user_item.loc[user_id]))[0])\n",
    "    \n",
    "    article_ids = user_item.loc[user_id].index[article_ids_idx].astype('float32').astype('str')\n",
    "    \n",
    "#     article_names = list(df_content[df_content.article_id.\\\n",
    "#                                     isin(article_ids.astype('str'))].doc_full_name)\n",
    "    \n",
    "    article_names = list(df[df.article_id.astype('str').\\\n",
    "                                        isin(article_ids)].groupby('article_id').max().title)\n",
    "    \n",
    "    return article_ids, article_names # return the ids and names\n",
    "\n",
    "\n",
    "def user_user_recs(user_id, m=10):\n",
    "    '''\n",
    "    INPUT:\n",
    "    user_id - (int) a user id\n",
    "    m - (int) the number of recommendations you want for the user\n",
    "    \n",
    "    OUTPUT:\n",
    "    recs - (list) a list of recommendations for the user\n",
    "    \n",
    "    Description:\n",
    "    Loops through the users based on closeness to the input user_id\n",
    "    For each user - finds articles the user hasn't seen before and provides them as recs\n",
    "    Does this until m recommendations are found\n",
    "    \n",
    "    Notes:\n",
    "    Users who are the same closeness are chosen arbitrarily as the 'next' user\n",
    "    \n",
    "    For the user where the number of recommended articles starts below m \n",
    "    and ends exceeding m, the last items are chosen arbitrarily\n",
    "    \n",
    "    '''\n",
    "    most_familiar_users = find_similar_users(user_id)\n",
    "\n",
    "    user_article_ids = get_user_articles(user_id)[0]\n",
    "\n",
    "#     recs = defaultdict(set)\n",
    "    recs = []\n",
    "    \n",
    "    for familiar_user in most_familiar_users:\n",
    "        familiar_user_article = get_user_articles(familiar_user)[0]\n",
    "        rec_temp = np.setdiff1d(familiar_user_article,user_article_ids)\n",
    "        rec_temp = np.setdiff1d(rec_temp,recs)\n",
    "        rec_temp = list(rec_temp)\n",
    "        if len(rec_temp) == 0:\n",
    "            continue\n",
    "        start = len(recs)\n",
    "        end = (len(rec_temp) + start)\n",
    "        if end > m:\n",
    "            k =(m-start)\n",
    "            #items are chosen arbitrarily\n",
    "            rec_temp = random.sample(rec_temp,k = k)\n",
    "            recs.extend(rec_temp)\n",
    "            break\n",
    "        else:\n",
    "            recs.extend(rec_temp)\n",
    " \n",
    "       \n",
    "    return recs # return your recommendations for this user_id    "
   ]
  },
  {
   "cell_type": "code",
   "execution_count": 27,
   "metadata": {},
   "outputs": [
    {
     "data": {
      "text/plain": [
       "['modeling energy usage in new york city',\n",
       " 'using bigdl in dsx for deep learning on spark',\n",
       " 'web picks (week of 4 september 2017)',\n",
       " 'twelve\\xa0ways to color a map of africa using brunel',\n",
       " 'get social with your notebooks in dsx',\n",
       " 'machine learning for the enterprise',\n",
       " 'using rstudio in ibm data science experience',\n",
       " 'ml algorithm != learning machine',\n",
       " 'programmatic evaluation using watson conversation',\n",
       " 'visualize data with the matplotlib library']"
      ]
     },
     "execution_count": 27,
     "metadata": {},
     "output_type": "execute_result"
    }
   ],
   "source": [
    "# Check Results\n",
    "get_article_names(user_user_recs(1, 10)) # Return 10 recommendations for user 1"
   ]
  },
  {
   "cell_type": "code",
   "execution_count": 28,
   "metadata": {},
   "outputs": [
    {
     "name": "stdout",
     "output_type": "stream",
     "text": [
      "If this is all you see, you passed all of our tests!  Nice job!\n"
     ]
    }
   ],
   "source": [
    "# Test your functions here - No need to change this code - just run this cell\n",
    "assert set(get_article_names(['1024.0', '1176.0', '1305.0', '1314.0', '1422.0', '1427.0'])) == set(['using deep learning to reconstruct high-resolution audio', 'build a python app on the streaming analytics service', 'gosales transactions for naive bayes model', 'healthcare python streaming application demo', 'use r dataframes & ibm watson natural language understanding', 'use xgboost, scikit-learn & ibm watson machine learning apis']), \"Oops! Your the get_article_names function doesn't work quite how we expect.\"\n",
    "assert set(get_article_names(['1320.0', '232.0', '844.0'])) == set(['housing (2015): united states demographic measures','self-service data preparation with ibm data refinery','use the cloudant-spark connector in python notebook']), \"Oops! Your the get_article_names function doesn't work quite how we expect.\"\n",
    "assert set(get_user_articles(20)[0]) == set(['1320.0', '232.0', '844.0'])\n",
    "assert set(get_user_articles(20)[1]) == set(['housing (2015): united states demographic measures', 'self-service data preparation with ibm data refinery','use the cloudant-spark connector in python notebook'])\n",
    "assert set(get_user_articles(2)[0]) == set(['1024.0', '1176.0', '1305.0', '1314.0', '1422.0', '1427.0'])\n",
    "assert set(get_user_articles(2)[1]) == set(['using deep learning to reconstruct high-resolution audio', 'build a python app on the streaming analytics service', 'gosales transactions for naive bayes model', 'healthcare python streaming application demo', 'use r dataframes & ibm watson natural language understanding', 'use xgboost, scikit-learn & ibm watson machine learning apis'])\n",
    "print(\"If this is all you see, you passed all of our tests!  Nice job!\")"
   ]
  },
  {
   "cell_type": "markdown",
   "metadata": {},
   "source": [
    "`4.` Now we are going to improve the consistency of the **user_user_recs** function from above.  \n",
    "\n",
    "* Instead of arbitrarily choosing when we obtain users who are all the same closeness to a given user - choose the users that have the most total article interactions before choosing those with fewer article interactions.\n",
    "\n",
    "\n",
    "* Instead of arbitrarily choosing articles from the user where the number of recommended articles starts below m and ends exceeding m, choose articles with the articles with the most total interactions before choosing those with fewer total interactions. This ranking should be  what would be obtained from the **top_articles** function you wrote earlier."
   ]
  },
  {
   "cell_type": "code",
   "execution_count": 29,
   "metadata": {},
   "outputs": [],
   "source": [
    "def get_top_sorted_users(user_id, df=df, user_item=user_item):\n",
    "    '''\n",
    "    INPUT:\n",
    "    user_id - (int)\n",
    "    df - (pandas dataframe) df as defined at the top of the notebook \n",
    "    user_item - (pandas dataframe) matrix of users by articles: \n",
    "            1's when a user has interacted with an article, 0 otherwise\n",
    "    \n",
    "            \n",
    "    OUTPUT:\n",
    "    neighbors_df - (pandas dataframe) a dataframe with:\n",
    "                    neighbor_id - is a neighbor user_id\n",
    "                    similarity - measure of the similarity of each user \n",
    "                    to the provided user_id\n",
    "                    num_interactions - the number of articles viewed by the user - if a u\n",
    "                    \n",
    "    Other Details - sort the neighbors_df by the similarity and then by number of \n",
    "    interactions where \n",
    "                    highest of each is higher in the dataframe\n",
    "     \n",
    "    '''\n",
    "    # compute similarity of each user to a given user\n",
    "    most_similar_users = user_item.loc[user_id].dot(np.transpose(user_item))\n",
    "    most_similar_users = most_similar_users[most_similar_users!=0]\n",
    "    most_similar_users.name = 'similarity'\n",
    "    \n",
    "\n",
    "    # count of interactions per user\n",
    "    user_interactions = df.user_id.value_counts()\n",
    "    user_interactions.name = 'num_interactions'\n",
    "\n",
    "    # create neighbors_df\n",
    "    neighbors_df = pd.concat([most_similar_users,user_interactions], axis = 1).\\\n",
    "        reset_index().rename(columns = {'index':'neighbor_id'})\n",
    "    \n",
    "    #remove Nan values\n",
    "    neighbors_df = neighbors_df.fillna(0)\n",
    "\n",
    "    # remove the own user's id and sort\n",
    "    neighbors_df = neighbors_df.query(\"neighbor_id != @user_id and similarity!=0.0\").\\\n",
    "        sort_values(['similarity','num_interactions'], ascending = False)\n",
    "        \n",
    "    return neighbors_df # Return the dataframe specified in the doc_string\n",
    "\n",
    "\n",
    "def user_user_recs_part2(user_id, m=10):\n",
    "    '''\n",
    "    INPUT:\n",
    "    user_id - (int) a user id\n",
    "    m - (int) the number of recommendations you want for the user\n",
    "    \n",
    "    OUTPUT:\n",
    "    recs - (list) a list of recommendations for the user by article id\n",
    "    rec_names - (list) a list of recommendations for the user by article title\n",
    "    \n",
    "    Description:\n",
    "    Loops through the users based on closeness to the input user_id\n",
    "    For each user - finds articles the user hasn't seen before and provides them as recs\n",
    "    Does this until m recommendations are found\n",
    "    \n",
    "    Notes:\n",
    "    * Choose the users that have the most total article interactions \n",
    "    before choosing those with fewer article interactions.\n",
    "\n",
    "    * Choose articles with the articles with the most total interactions \n",
    "    before choosing those with fewer total interactions. \n",
    "   \n",
    "    '''\n",
    "    # similar users\n",
    "    most_similar_users = list(get_top_sorted_users(user_id)['neighbor_id'])\n",
    "\n",
    "    #list of articles of the provided user\n",
    "    user_article_ids = get_user_articles(user_id)[0]\n",
    "\n",
    "    # article_ids are ordered by number of interactions \n",
    "    ordered_article_ids = get_top_article_ids(-1)\n",
    "\n",
    "    #for each familiar user, we get the articles not yet seen by the provided user\n",
    "    recs = defaultdict(set)\n",
    "    for similar_user in most_similar_users:\n",
    "        similar_user_article = get_user_articles(similar_user)[0]\n",
    "        rec_temp = np.setdiff1d(similar_user_article,user_article_ids)\n",
    "        rec_temp = list(rec_temp)\n",
    "\n",
    "        if len(rec_temp) == 0:\n",
    "            continue\n",
    "        \n",
    "        start = len(recs)\n",
    "        end = (len(rec_temp) + start)\n",
    "    \n",
    "    # we get the list of recs according to the top list of articles \n",
    "        new_rec_temp = []\n",
    "        if end > m:\n",
    "            k = m-start\n",
    "            for i in list(map(str,ordered_article_ids)):\n",
    "                if i in rec_temp:\n",
    "                    new_rec_temp.append(i)\n",
    "                else:\n",
    "                    continue\n",
    "            new_rec_temp =new_rec_temp[:k]\n",
    "           \n",
    "            recs[user_id].update(new_rec_temp)\n",
    "            break\n",
    "        else:\n",
    "            for i in list(map(str,ordered_article_ids)):\n",
    "                if i in rec_temp:\n",
    "                    new_rec_temp.append(i)\n",
    "                else:\n",
    "                    continue\n",
    "            recs[user_id].update(new_rec_temp)\n",
    "    recs = recs[user_id]\n",
    "    rec_names = list(get_article_names(recs))\n",
    "\n",
    "    \n",
    "    return recs, rec_names"
   ]
  },
  {
   "cell_type": "code",
   "execution_count": 30,
   "metadata": {},
   "outputs": [
    {
     "name": "stdout",
     "output_type": "stream",
     "text": [
      "The top 10 recommendations for user 20 are the following article ids:\n",
      "{'1427.0', '1368.0', '1170.0', '1364.0', '1160.0', '1162.0', '1354.0', '1330.0', '1351.0', '1304.0'}\n",
      "\n",
      "The top 10 recommendations for user 20 are the following article names:\n",
      "['analyze accident reports on amazon emr spark', 'analyze energy consumption in buildings', 'apache spark lab, part 1: basic concepts', 'gosales transactions for logistic regression model', 'insights from new york car accident reports', 'model bike sharing data with spss', 'movie recommender system with spark machine learning', 'predicting churn with the spss random tree algorithm', 'putting a human face on machine learning', 'use xgboost, scikit-learn & ibm watson machine learning apis']\n"
     ]
    }
   ],
   "source": [
    "# Quick spot check - don't change this code - just use it to test your functions\n",
    "rec_ids, rec_names = user_user_recs_part2(20, 10)\n",
    "print(\"The top 10 recommendations for user 20 are the following article ids:\")\n",
    "print(rec_ids)\n",
    "print()\n",
    "print(\"The top 10 recommendations for user 20 are the following article names:\")\n",
    "print(rec_names)"
   ]
  },
  {
   "cell_type": "markdown",
   "metadata": {},
   "source": [
    "`5.` Use your functions from above to correctly fill in the solutions to the dictionary below.  Then test your dictionary against the solution.  Provide the code you need to answer each following the comments below."
   ]
  },
  {
   "cell_type": "code",
   "execution_count": 31,
   "metadata": {},
   "outputs": [
    {
     "data": {
      "text/plain": [
       "3933"
      ]
     },
     "execution_count": 31,
     "metadata": {},
     "output_type": "execute_result"
    },
    {
     "data": {
      "text/plain": [
       "242"
      ]
     },
     "execution_count": 31,
     "metadata": {},
     "output_type": "execute_result"
    }
   ],
   "source": [
    "get_top_sorted_users(1).neighbor_id.iloc[0]\n",
    "get_top_sorted_users(131).neighbor_id.iloc[9]\n"
   ]
  },
  {
   "cell_type": "code",
   "execution_count": 32,
   "metadata": {},
   "outputs": [],
   "source": [
    "### Tests with a dictionary of results\n",
    "\n",
    "user1_most_sim = 3933 # Find the user that is most similar to user 1 \n",
    "\n",
    "user131_10th_sim = 242 # Find the 10th most similar user to user 131\n",
    "\n",
    "\n"
   ]
  },
  {
   "cell_type": "code",
   "execution_count": 33,
   "metadata": {},
   "outputs": [
    {
     "name": "stdout",
     "output_type": "stream",
     "text": [
      "This all looks good!  Nice job!\n"
     ]
    }
   ],
   "source": [
    "## Dictionary Test Here\n",
    "sol_5_dict = {\n",
    "    'The user that is most similar to user 1.': user1_most_sim, \n",
    "    'The user that is the 10th most similar to user 131': user131_10th_sim,\n",
    "}\n",
    "\n",
    "t.sol_5_test(sol_5_dict)"
   ]
  },
  {
   "cell_type": "markdown",
   "metadata": {},
   "source": [
    "`6.` If we were given a new user, which of the above functions would you be able to use to make recommendations?  Explain.  Can you think of a better way we might make recommendations?  Use the cell below to explain a better method for new users."
   ]
  },
  {
   "cell_type": "markdown",
   "metadata": {},
   "source": [
    "In case we are given a new user, it is clear he has no interactions with any articles yet, hence we cannot relate him to any other users based on similarities of interactions. It would then make sense to use the rank based recommendations to present him with the top list of articles."
   ]
  },
  {
   "cell_type": "markdown",
   "metadata": {},
   "source": [
    "`7.` Using your existing functions, provide the top 10 recommended articles you would provide for the a new user below.  You can test your function against our thoughts to make sure we are all on the same page with how we might make a recommendation."
   ]
  },
  {
   "cell_type": "code",
   "execution_count": 34,
   "metadata": {},
   "outputs": [],
   "source": [
    "new_user = '0.0'\n",
    "\n",
    "# What would your recommendations be for this new user '0.0'?  As a new user, they have no observed articles.\n",
    "# Provide a list of the top 10 article ids you would give to \n",
    "new_user_recs = list(map(str,get_top_article_ids(10)))# Your recommendations here\n"
   ]
  },
  {
   "cell_type": "code",
   "execution_count": 35,
   "metadata": {},
   "outputs": [
    {
     "name": "stdout",
     "output_type": "stream",
     "text": [
      "That's right!  Nice job!\n"
     ]
    }
   ],
   "source": [
    "assert set(new_user_recs) == set(['1314.0','1429.0','1293.0','1427.0','1162.0','1364.0','1304.0','1170.0','1431.0','1330.0']), \"Oops!  It makes sense that in this case we would want to recommend the most popular articles, because we don't know anything about these users.\"\n",
    "\n",
    "print(\"That's right!  Nice job!\")"
   ]
  },
  {
   "cell_type": "markdown",
   "metadata": {},
   "source": [
    "### <a class=\"anchor\" id=\"Content-Recs\">Part IV: Content Based Recommendations (EXTRA - NOT REQUIRED)</a>\n",
    "\n",
    "Another method we might use to make recommendations is to perform a ranking of the highest ranked articles associated with some term.  You might consider content to be the **doc_body**, **doc_description**, or **doc_full_name**.  There isn't one way to create a content based recommendation, especially considering that each of these columns hold content related information.  \n",
    "\n",
    "`1.` Use the function body below to create a content based recommender.  Since there isn't one right answer for this recommendation tactic, no test functions are provided.  Feel free to change the function inputs if you decide you want to try a method that requires more input values.  The input values are currently set with one idea in mind that you may use to make content based recommendations.  One additional idea is that you might want to choose the most popular recommendations that meet your 'content criteria', but again, there is a lot of flexibility in how you might make these recommendations.\n",
    "\n",
    "### This part is NOT REQUIRED to pass this project.  However, you may choose to take this on as an extra way to show off your skills."
   ]
  },
  {
   "cell_type": "code",
   "execution_count": 36,
   "metadata": {},
   "outputs": [],
   "source": [
    "def make_content_recs():\n",
    "    '''\n",
    "    INPUT:\n",
    "    \n",
    "    OUTPUT:\n",
    "    \n",
    "    '''"
   ]
  },
  {
   "cell_type": "markdown",
   "metadata": {},
   "source": [
    "`2.` Now that you have put together your content-based recommendation system, use the cell below to write a summary explaining how your content based recommender works.  Do you see any possible improvements that could be made to your function?  Is there anything novel about your content based recommender?\n",
    "\n",
    "### This part is NOT REQUIRED to pass this project.  However, you may choose to take this on as an extra way to show off your skills."
   ]
  },
  {
   "cell_type": "markdown",
   "metadata": {},
   "source": [
    "**Write an explanation of your content based recommendation system here.**"
   ]
  },
  {
   "cell_type": "markdown",
   "metadata": {},
   "source": [
    "`3.` Use your content-recommendation system to make recommendations for the below scenarios based on the comments.  Again no tests are provided here, because there isn't one right answer that could be used to find these content based recommendations.\n",
    "\n",
    "### This part is NOT REQUIRED to pass this project.  However, you may choose to take this on as an extra way to show off your skills."
   ]
  },
  {
   "cell_type": "code",
   "execution_count": 37,
   "metadata": {},
   "outputs": [],
   "source": [
    "# make recommendations for a brand new user\n",
    "\n",
    "\n",
    "# make a recommendations for a user who only has interacted with article id '1427.0'\n",
    "\n"
   ]
  },
  {
   "cell_type": "markdown",
   "metadata": {},
   "source": [
    "### <a class=\"anchor\" id=\"Matrix-Fact\">Part V: Matrix Factorization</a>\n",
    "\n",
    "In this part of the notebook, you will build use matrix factorization to make article recommendations to the users on the IBM Watson Studio platform.\n",
    "\n",
    "`1.` You should have already created a **user_item** matrix above in **question 1** of **Part III** above.  This first question here will just require that you run the cells to get things set up for the rest of **Part V** of the notebook. "
   ]
  },
  {
   "cell_type": "code",
   "execution_count": 38,
   "metadata": {},
   "outputs": [],
   "source": [
    "# Load the matrix here\n",
    "user_item_matrix = pd.read_pickle('user_item_matrix.p')"
   ]
  },
  {
   "cell_type": "code",
   "execution_count": 39,
   "metadata": {},
   "outputs": [
    {
     "data": {
      "text/html": [
       "<div>\n",
       "<style scoped>\n",
       "    .dataframe tbody tr th:only-of-type {\n",
       "        vertical-align: middle;\n",
       "    }\n",
       "\n",
       "    .dataframe tbody tr th {\n",
       "        vertical-align: top;\n",
       "    }\n",
       "\n",
       "    .dataframe thead th {\n",
       "        text-align: right;\n",
       "    }\n",
       "</style>\n",
       "<table border=\"1\" class=\"dataframe\">\n",
       "  <thead>\n",
       "    <tr style=\"text-align: right;\">\n",
       "      <th>article_id</th>\n",
       "      <th>0.0</th>\n",
       "      <th>100.0</th>\n",
       "      <th>1000.0</th>\n",
       "      <th>1004.0</th>\n",
       "      <th>1006.0</th>\n",
       "      <th>1008.0</th>\n",
       "      <th>101.0</th>\n",
       "      <th>1014.0</th>\n",
       "      <th>1015.0</th>\n",
       "      <th>1016.0</th>\n",
       "      <th>...</th>\n",
       "      <th>977.0</th>\n",
       "      <th>98.0</th>\n",
       "      <th>981.0</th>\n",
       "      <th>984.0</th>\n",
       "      <th>985.0</th>\n",
       "      <th>986.0</th>\n",
       "      <th>990.0</th>\n",
       "      <th>993.0</th>\n",
       "      <th>996.0</th>\n",
       "      <th>997.0</th>\n",
       "    </tr>\n",
       "    <tr>\n",
       "      <th>user_id</th>\n",
       "      <th></th>\n",
       "      <th></th>\n",
       "      <th></th>\n",
       "      <th></th>\n",
       "      <th></th>\n",
       "      <th></th>\n",
       "      <th></th>\n",
       "      <th></th>\n",
       "      <th></th>\n",
       "      <th></th>\n",
       "      <th></th>\n",
       "      <th></th>\n",
       "      <th></th>\n",
       "      <th></th>\n",
       "      <th></th>\n",
       "      <th></th>\n",
       "      <th></th>\n",
       "      <th></th>\n",
       "      <th></th>\n",
       "      <th></th>\n",
       "      <th></th>\n",
       "    </tr>\n",
       "  </thead>\n",
       "  <tbody>\n",
       "    <tr>\n",
       "      <th>1</th>\n",
       "      <td>0.0</td>\n",
       "      <td>0.0</td>\n",
       "      <td>0.0</td>\n",
       "      <td>0.0</td>\n",
       "      <td>0.0</td>\n",
       "      <td>0.0</td>\n",
       "      <td>0.0</td>\n",
       "      <td>0.0</td>\n",
       "      <td>0.0</td>\n",
       "      <td>0.0</td>\n",
       "      <td>...</td>\n",
       "      <td>0.0</td>\n",
       "      <td>0.0</td>\n",
       "      <td>1.0</td>\n",
       "      <td>0.0</td>\n",
       "      <td>0.0</td>\n",
       "      <td>0.0</td>\n",
       "      <td>0.0</td>\n",
       "      <td>0.0</td>\n",
       "      <td>0.0</td>\n",
       "      <td>0.0</td>\n",
       "    </tr>\n",
       "    <tr>\n",
       "      <th>2</th>\n",
       "      <td>0.0</td>\n",
       "      <td>0.0</td>\n",
       "      <td>0.0</td>\n",
       "      <td>0.0</td>\n",
       "      <td>0.0</td>\n",
       "      <td>0.0</td>\n",
       "      <td>0.0</td>\n",
       "      <td>0.0</td>\n",
       "      <td>0.0</td>\n",
       "      <td>0.0</td>\n",
       "      <td>...</td>\n",
       "      <td>0.0</td>\n",
       "      <td>0.0</td>\n",
       "      <td>0.0</td>\n",
       "      <td>0.0</td>\n",
       "      <td>0.0</td>\n",
       "      <td>0.0</td>\n",
       "      <td>0.0</td>\n",
       "      <td>0.0</td>\n",
       "      <td>0.0</td>\n",
       "      <td>0.0</td>\n",
       "    </tr>\n",
       "    <tr>\n",
       "      <th>3</th>\n",
       "      <td>0.0</td>\n",
       "      <td>0.0</td>\n",
       "      <td>0.0</td>\n",
       "      <td>0.0</td>\n",
       "      <td>0.0</td>\n",
       "      <td>0.0</td>\n",
       "      <td>0.0</td>\n",
       "      <td>0.0</td>\n",
       "      <td>0.0</td>\n",
       "      <td>0.0</td>\n",
       "      <td>...</td>\n",
       "      <td>1.0</td>\n",
       "      <td>0.0</td>\n",
       "      <td>0.0</td>\n",
       "      <td>0.0</td>\n",
       "      <td>0.0</td>\n",
       "      <td>0.0</td>\n",
       "      <td>0.0</td>\n",
       "      <td>0.0</td>\n",
       "      <td>0.0</td>\n",
       "      <td>0.0</td>\n",
       "    </tr>\n",
       "    <tr>\n",
       "      <th>4</th>\n",
       "      <td>0.0</td>\n",
       "      <td>0.0</td>\n",
       "      <td>0.0</td>\n",
       "      <td>0.0</td>\n",
       "      <td>0.0</td>\n",
       "      <td>0.0</td>\n",
       "      <td>0.0</td>\n",
       "      <td>0.0</td>\n",
       "      <td>0.0</td>\n",
       "      <td>0.0</td>\n",
       "      <td>...</td>\n",
       "      <td>0.0</td>\n",
       "      <td>0.0</td>\n",
       "      <td>0.0</td>\n",
       "      <td>0.0</td>\n",
       "      <td>0.0</td>\n",
       "      <td>0.0</td>\n",
       "      <td>0.0</td>\n",
       "      <td>0.0</td>\n",
       "      <td>0.0</td>\n",
       "      <td>0.0</td>\n",
       "    </tr>\n",
       "    <tr>\n",
       "      <th>5</th>\n",
       "      <td>0.0</td>\n",
       "      <td>0.0</td>\n",
       "      <td>0.0</td>\n",
       "      <td>0.0</td>\n",
       "      <td>0.0</td>\n",
       "      <td>0.0</td>\n",
       "      <td>0.0</td>\n",
       "      <td>0.0</td>\n",
       "      <td>0.0</td>\n",
       "      <td>0.0</td>\n",
       "      <td>...</td>\n",
       "      <td>0.0</td>\n",
       "      <td>0.0</td>\n",
       "      <td>0.0</td>\n",
       "      <td>0.0</td>\n",
       "      <td>0.0</td>\n",
       "      <td>0.0</td>\n",
       "      <td>0.0</td>\n",
       "      <td>0.0</td>\n",
       "      <td>0.0</td>\n",
       "      <td>0.0</td>\n",
       "    </tr>\n",
       "  </tbody>\n",
       "</table>\n",
       "<p>5 rows × 714 columns</p>\n",
       "</div>"
      ],
      "text/plain": [
       "article_id  0.0  100.0  1000.0  1004.0  1006.0  1008.0  101.0  1014.0  1015.0  \\\n",
       "user_id                                                                         \n",
       "1           0.0    0.0     0.0     0.0     0.0     0.0    0.0     0.0     0.0   \n",
       "2           0.0    0.0     0.0     0.0     0.0     0.0    0.0     0.0     0.0   \n",
       "3           0.0    0.0     0.0     0.0     0.0     0.0    0.0     0.0     0.0   \n",
       "4           0.0    0.0     0.0     0.0     0.0     0.0    0.0     0.0     0.0   \n",
       "5           0.0    0.0     0.0     0.0     0.0     0.0    0.0     0.0     0.0   \n",
       "\n",
       "article_id  1016.0  ...    977.0  98.0  981.0  984.0  985.0  986.0  990.0  \\\n",
       "user_id             ...                                                     \n",
       "1              0.0  ...      0.0   0.0    1.0    0.0    0.0    0.0    0.0   \n",
       "2              0.0  ...      0.0   0.0    0.0    0.0    0.0    0.0    0.0   \n",
       "3              0.0  ...      1.0   0.0    0.0    0.0    0.0    0.0    0.0   \n",
       "4              0.0  ...      0.0   0.0    0.0    0.0    0.0    0.0    0.0   \n",
       "5              0.0  ...      0.0   0.0    0.0    0.0    0.0    0.0    0.0   \n",
       "\n",
       "article_id  993.0  996.0  997.0  \n",
       "user_id                          \n",
       "1             0.0    0.0    0.0  \n",
       "2             0.0    0.0    0.0  \n",
       "3             0.0    0.0    0.0  \n",
       "4             0.0    0.0    0.0  \n",
       "5             0.0    0.0    0.0  \n",
       "\n",
       "[5 rows x 714 columns]"
      ]
     },
     "execution_count": 39,
     "metadata": {},
     "output_type": "execute_result"
    }
   ],
   "source": [
    "# quick look at the matrix\n",
    "user_item_matrix.head()"
   ]
  },
  {
   "cell_type": "markdown",
   "metadata": {},
   "source": [
    "`2.` In this situation, you can use Singular Value Decomposition from [numpy](https://docs.scipy.org/doc/numpy-1.14.0/reference/generated/numpy.linalg.svd.html) on the user-item matrix.  Use the cell to perform SVD, and explain why this is different than in the lesson."
   ]
  },
  {
   "cell_type": "code",
   "execution_count": 40,
   "metadata": {},
   "outputs": [
    {
     "data": {
      "text/plain": [
       "(5149, 714)"
      ]
     },
     "execution_count": 40,
     "metadata": {},
     "output_type": "execute_result"
    },
    {
     "data": {
      "text/plain": [
       "((5149, 5149), (714,), (714, 714))"
      ]
     },
     "execution_count": 40,
     "metadata": {},
     "output_type": "execute_result"
    },
    {
     "data": {
      "text/plain": [
       "array([[ -4.30899801e-02,   8.30671762e-03,   2.75704572e-02, ...,\n",
       "         -1.77727253e-05,   4.70888947e-05,  -5.97808463e-03],\n",
       "       [ -1.03765691e-02,   1.64771768e-02,   6.04781444e-03, ...,\n",
       "          1.08681934e-03,   6.95169310e-04,  -9.60961798e-04],\n",
       "       [ -4.98474594e-02,   1.44789670e-03,  -1.64960631e-02, ...,\n",
       "          2.33057444e-03,   2.59445918e-04,   2.50334072e-03],\n",
       "       ..., \n",
       "       [ -3.22580101e-05,  -7.76317124e-05,   5.55685276e-05, ...,\n",
       "          9.30996264e-01,  -1.44195551e-04,  -6.26238570e-04],\n",
       "       [ -2.46741942e-03,   3.80247363e-03,  -4.46702539e-03, ...,\n",
       "         -1.16262150e-04,   9.93261270e-01,  -4.37194756e-04],\n",
       "       [ -4.91946427e-04,  -1.00943223e-03,   4.99509739e-04, ...,\n",
       "         -3.02094282e-04,  -9.19094490e-05,   9.68258051e-01]])"
      ]
     },
     "execution_count": 40,
     "metadata": {},
     "output_type": "execute_result"
    },
    {
     "data": {
      "text/plain": [
       "array([  5.53457037e+01,   2.32486418e+01,   2.17600228e+01,\n",
       "         2.06583341e+01,   1.99708867e+01,   1.95569462e+01,\n",
       "         1.91632342e+01,   1.87197508e+01,   1.83438615e+01,\n",
       "         1.80639261e+01,   1.76377686e+01,   1.74335474e+01,\n",
       "         1.74301733e+01,   1.70930876e+01,   1.67638529e+01,\n",
       "         1.64669871e+01,   1.64559512e+01,   1.63068949e+01,\n",
       "         1.61666030e+01,   1.57444047e+01,   1.57038805e+01,\n",
       "         1.55878977e+01,   1.55013389e+01,   1.53746023e+01,\n",
       "         1.52212789e+01,   1.50401111e+01,   1.49482365e+01,\n",
       "         1.47737529e+01,   1.46704332e+01,   1.46097896e+01,\n",
       "         1.45312074e+01,   1.44025711e+01,   1.43073643e+01,\n",
       "         1.40654598e+01,   1.38995696e+01,   1.38576259e+01,\n",
       "         1.37810084e+01,   1.36388289e+01,   1.36055830e+01,\n",
       "         1.35749215e+01,   1.35196309e+01,   1.33503810e+01,\n",
       "         1.33107854e+01,   1.31843779e+01,   1.30764996e+01,\n",
       "         1.30470484e+01,   1.29137238e+01,   1.28999043e+01,\n",
       "         1.27923679e+01,   1.26848013e+01,   1.26361984e+01,\n",
       "         1.26069082e+01,   1.24039390e+01,   1.23562882e+01,\n",
       "         1.22810586e+01,   1.21600337e+01,   1.21294028e+01,\n",
       "         1.20983395e+01,   1.20100229e+01,   1.19449827e+01,\n",
       "         1.19335388e+01,   1.18192562e+01,   1.17660208e+01,\n",
       "         1.17113450e+01,   1.16297027e+01,   1.15799753e+01,\n",
       "         1.14721374e+01,   1.14021968e+01,   1.13255385e+01,\n",
       "         1.12968801e+01,   1.12121296e+01,   1.11029330e+01,\n",
       "         1.10772469e+01,   1.09611247e+01,   1.09451910e+01,\n",
       "         1.08831594e+01,   1.08319400e+01,   1.07571231e+01,\n",
       "         1.06870041e+01,   1.06441857e+01,   1.05803518e+01,\n",
       "         1.05366876e+01,   1.04634654e+01,   1.04180469e+01,\n",
       "         1.03771561e+01,   1.03662447e+01,   1.02972427e+01,\n",
       "         1.02237610e+01,   1.01930571e+01,   1.01339378e+01,\n",
       "         1.01169304e+01,   1.00605483e+01,   1.00018886e+01,\n",
       "         9.93186806e+00,   9.91523152e+00,   9.88725887e+00,\n",
       "         9.83833681e+00,   9.81794312e+00,   9.79808989e+00,\n",
       "         9.74279916e+00,   9.65791949e+00,   9.61063591e+00,\n",
       "         9.55883047e+00,   9.51331520e+00,   9.48748290e+00,\n",
       "         9.45900984e+00,   9.39838850e+00,   9.36018902e+00,\n",
       "         9.32590972e+00,   9.27660547e+00,   9.22234450e+00,\n",
       "         9.19492811e+00,   9.12079895e+00,   9.08028506e+00,\n",
       "         9.04719849e+00,   9.01448607e+00,   8.94330252e+00,\n",
       "         8.91267694e+00,   8.87882780e+00,   8.85559026e+00,\n",
       "         8.81374437e+00,   8.78139555e+00,   8.70823928e+00,\n",
       "         8.64315751e+00,   8.59659084e+00,   8.59089274e+00,\n",
       "         8.53272777e+00,   8.50286441e+00,   8.48514063e+00,\n",
       "         8.42762658e+00,   8.42009926e+00,   8.40527042e+00,\n",
       "         8.37288303e+00,   8.35604403e+00,   8.32677986e+00,\n",
       "         8.30086653e+00,   8.24938269e+00,   8.20057355e+00,\n",
       "         8.18933771e+00,   8.14272125e+00,   8.11444934e+00,\n",
       "         8.10420578e+00,   8.08620432e+00,   8.03714827e+00,\n",
       "         8.03435923e+00,   7.98780703e+00,   7.94742524e+00,\n",
       "         7.90823847e+00,   7.87805786e+00,   7.85398957e+00,\n",
       "         7.82775774e+00,   7.81104366e+00,   7.76390298e+00,\n",
       "         7.74886149e+00,   7.73839798e+00,   7.69615259e+00,\n",
       "         7.65996085e+00,   7.63113016e+00,   7.60482040e+00,\n",
       "         7.58811574e+00,   7.54589770e+00,   7.52310211e+00,\n",
       "         7.49563792e+00,   7.44964803e+00,   7.43085513e+00,\n",
       "         7.40567789e+00,   7.37869555e+00,   7.35476941e+00,\n",
       "         7.30586187e+00,   7.29266284e+00,   7.26523271e+00,\n",
       "         7.22145211e+00,   7.19880747e+00,   7.15331558e+00,\n",
       "         7.13863328e+00,   7.13034140e+00,   7.08541261e+00,\n",
       "         7.04808650e+00,   7.04357453e+00,   7.03050132e+00,\n",
       "         7.01032763e+00,   6.98657129e+00,   6.95974054e+00,\n",
       "         6.91059037e+00,   6.86950831e+00,   6.83127731e+00,\n",
       "         6.82586163e+00,   6.80808512e+00,   6.78169211e+00,\n",
       "         6.77536696e+00,   6.74540883e+00,   6.72600536e+00,\n",
       "         6.69537884e+00,   6.67322552e+00,   6.65197879e+00,\n",
       "         6.63579835e+00,   6.60456904e+00,   6.58102192e+00,\n",
       "         6.56098147e+00,   6.52976231e+00,   6.51227257e+00,\n",
       "         6.49675351e+00,   6.47147417e+00,   6.44801276e+00,\n",
       "         6.41872750e+00,   6.37532316e+00,   6.35586647e+00,\n",
       "         6.32965091e+00,   6.30709431e+00,   6.27623526e+00,\n",
       "         6.25938849e+00,   6.23982897e+00,   6.23078247e+00,\n",
       "         6.20891126e+00,   6.20088452e+00,   6.17234111e+00,\n",
       "         6.14321030e+00,   6.10348533e+00,   6.08255754e+00,\n",
       "         6.05421974e+00,   6.04398767e+00,   6.02552069e+00,\n",
       "         6.00245107e+00,   5.98865778e+00,   5.96981173e+00,\n",
       "         5.96066667e+00,   5.93584006e+00,   5.88738844e+00,\n",
       "         5.87946429e+00,   5.86845213e+00,   5.85225619e+00,\n",
       "         5.82207158e+00,   5.78835052e+00,   5.77230349e+00,\n",
       "         5.75247863e+00,   5.73248156e+00,   5.70414494e+00,\n",
       "         5.70350083e+00,   5.68447651e+00,   5.66670739e+00,\n",
       "         5.65713461e+00,   5.61679181e+00,   5.60583162e+00,\n",
       "         5.58725591e+00,   5.57313212e+00,   5.53267945e+00,\n",
       "         5.52220473e+00,   5.51223540e+00,   5.50056731e+00,\n",
       "         5.49066387e+00,   5.46215406e+00,   5.42562817e+00,\n",
       "         5.39816863e+00,   5.38684198e+00,   5.37887548e+00,\n",
       "         5.34758543e+00,   5.33933318e+00,   5.31134464e+00,\n",
       "         5.30441619e+00,   5.29467028e+00,   5.27110936e+00,\n",
       "         5.26113856e+00,   5.23614647e+00,   5.23013414e+00,\n",
       "         5.21590406e+00,   5.20553050e+00,   5.16160064e+00,\n",
       "         5.14699168e+00,   5.11957090e+00,   5.11021148e+00,\n",
       "         5.10045361e+00,   5.07484324e+00,   5.05643010e+00,\n",
       "         5.04117683e+00,   5.03175203e+00,   5.00799720e+00,\n",
       "         4.98757351e+00,   4.97415479e+00,   4.96850526e+00,\n",
       "         4.95510476e+00,   4.91914825e+00,   4.90926126e+00,\n",
       "         4.88879760e+00,   4.87780406e+00,   4.86462924e+00,\n",
       "         4.85409363e+00,   4.82792553e+00,   4.81112468e+00,\n",
       "         4.80519464e+00,   4.77407754e+00,   4.77262582e+00,\n",
       "         4.76052276e+00,   4.74233756e+00,   4.73909899e+00,\n",
       "         4.72464868e+00,   4.70695590e+00,   4.69133076e+00,\n",
       "         4.66230409e+00,   4.63556566e+00,   4.62269159e+00,\n",
       "         4.60961205e+00,   4.59337688e+00,   4.58622380e+00,\n",
       "         4.57372843e+00,   4.54722829e+00,   4.52991503e+00,\n",
       "         4.52509516e+00,   4.50947617e+00,   4.49897278e+00,\n",
       "         4.49449383e+00,   4.46943058e+00,   4.45395221e+00,\n",
       "         4.44291146e+00,   4.42280618e+00,   4.41111791e+00,\n",
       "         4.40218052e+00,   4.36206135e+00,   4.35549651e+00,\n",
       "         4.34546507e+00,   4.34297454e+00,   4.32805340e+00,\n",
       "         4.31003682e+00,   4.30429999e+00,   4.29038786e+00,\n",
       "         4.27087575e+00,   4.25139418e+00,   4.24359271e+00,\n",
       "         4.23062900e+00,   4.22467891e+00,   4.20344923e+00,\n",
       "         4.18514808e+00,   4.17221161e+00,   4.16329502e+00,\n",
       "         4.15958969e+00,   4.13735636e+00,   4.12901197e+00,\n",
       "         4.11852107e+00,   4.10613561e+00,   4.08313378e+00,\n",
       "         4.07993926e+00,   4.06191178e+00,   4.05310105e+00,\n",
       "         4.03960883e+00,   4.03092237e+00,   4.01257079e+00,\n",
       "         4.00319049e+00,   3.99357696e+00,   3.98303572e+00,\n",
       "         3.96252519e+00,   3.94562253e+00,   3.93874338e+00,\n",
       "         3.93227174e+00,   3.90554164e+00,   3.90196940e+00,\n",
       "         3.87382484e+00,   3.86845387e+00,   3.85990642e+00,\n",
       "         3.83996220e+00,   3.83638866e+00,   3.83135703e+00,\n",
       "         3.82157806e+00,   3.81859624e+00,   3.80393146e+00,\n",
       "         3.78729611e+00,   3.77941994e+00,   3.76149598e+00,\n",
       "         3.75825720e+00,   3.73133267e+00,   3.72308854e+00,\n",
       "         3.71955067e+00,   3.71006940e+00,   3.69765827e+00,\n",
       "         3.66976594e+00,   3.66123420e+00,   3.64933183e+00,\n",
       "         3.63935763e+00,   3.63006856e+00,   3.61740170e+00,\n",
       "         3.60945254e+00,   3.59155064e+00,   3.57488301e+00,\n",
       "         3.57044582e+00,   3.55840236e+00,   3.53422815e+00,\n",
       "         3.52344797e+00,   3.50278593e+00,   3.50010535e+00,\n",
       "         3.49755759e+00,   3.48298876e+00,   3.47905220e+00,\n",
       "         3.46303567e+00,   3.45210778e+00,   3.44693045e+00,\n",
       "         3.41939036e+00,   3.41019313e+00,   3.38994417e+00,\n",
       "         3.38031958e+00,   3.37348726e+00,   3.36502994e+00,\n",
       "         3.35355995e+00,   3.34155440e+00,   3.32420230e+00,\n",
       "         3.30423719e+00,   3.29859320e+00,   3.27906363e+00,\n",
       "         3.27564600e+00,   3.26454825e+00,   3.25582792e+00,\n",
       "         3.24253348e+00,   3.23060930e+00,   3.22471924e+00,\n",
       "         3.21282005e+00,   3.20352919e+00,   3.19516318e+00,\n",
       "         3.19144412e+00,   3.18436050e+00,   3.16402966e+00,\n",
       "         3.15858376e+00,   3.14605093e+00,   3.13955409e+00,\n",
       "         3.11063288e+00,   3.10651061e+00,   3.09313055e+00,\n",
       "         3.08022823e+00,   3.06778768e+00,   3.05694322e+00,\n",
       "         3.05153813e+00,   3.05086745e+00,   3.04338916e+00,\n",
       "         3.02858899e+00,   3.01198157e+00,   2.99657852e+00,\n",
       "         2.98402312e+00,   2.98073257e+00,   2.96382273e+00,\n",
       "         2.95399643e+00,   2.94357687e+00,   2.92976181e+00,\n",
       "         2.92281231e+00,   2.91588583e+00,   2.91343448e+00,\n",
       "         2.90636535e+00,   2.89063390e+00,   2.87264247e+00,\n",
       "         2.86779118e+00,   2.85952610e+00,   2.83365704e+00,\n",
       "         2.81741778e+00,   2.81432389e+00,   2.80046069e+00,\n",
       "         2.78790133e+00,   2.78622139e+00,   2.76872382e+00,\n",
       "         2.75894203e+00,   2.74971815e+00,   2.73900358e+00,\n",
       "         2.72222412e+00,   2.71878522e+00,   2.70387523e+00,\n",
       "         2.69910111e+00,   2.68412441e+00,   2.65402752e+00,\n",
       "         2.64698577e+00,   2.64433340e+00,   2.63597647e+00,\n",
       "         2.62770090e+00,   2.61441733e+00,   2.59289681e+00,\n",
       "         2.58961932e+00,   2.57741018e+00,   2.57261016e+00,\n",
       "         2.56762542e+00,   2.55865031e+00,   2.52887544e+00,\n",
       "         2.50641338e+00,   2.49378477e+00,   2.48124464e+00,\n",
       "         2.48052049e+00,   2.47013378e+00,   2.45105230e+00,\n",
       "         2.44032568e+00,   2.43328763e+00,   2.42849630e+00,\n",
       "         2.42101957e+00,   2.40895291e+00,   2.39176455e+00,\n",
       "         2.37387972e+00,   2.36548317e+00,   2.33643789e+00,\n",
       "         2.31076457e+00,   2.30152967e+00,   2.29179930e+00,\n",
       "         2.29166856e+00,   2.28120204e+00,   2.27193089e+00,\n",
       "         2.25834323e+00,   2.25310784e+00,   2.23791393e+00,\n",
       "         2.23074938e+00,   2.22475822e+00,   2.21669665e+00,\n",
       "         2.21086883e+00,   2.19127974e+00,   2.18470277e+00,\n",
       "         2.17616391e+00,   2.16337382e+00,   2.14959926e+00,\n",
       "         2.14220931e+00,   2.13315549e+00,   2.11725659e+00,\n",
       "         2.10776972e+00,   2.09552989e+00,   2.09077554e+00,\n",
       "         2.07588643e+00,   2.07438003e+00,   2.06299073e+00,\n",
       "         2.05301240e+00,   2.03619233e+00,   2.02379345e+00,\n",
       "         2.01485936e+00,   2.00858207e+00,   1.99861610e+00,\n",
       "         1.99537789e+00,   1.96417523e+00,   1.95874234e+00,\n",
       "         1.95435504e+00,   1.94813566e+00,   1.93960031e+00,\n",
       "         1.92819813e+00,   1.91818728e+00,   1.91290383e+00,\n",
       "         1.90721084e+00,   1.89201878e+00,   1.87902208e+00,\n",
       "         1.86512209e+00,   1.85949693e+00,   1.85809402e+00,\n",
       "         1.83862972e+00,   1.83709038e+00,   1.82292300e+00,\n",
       "         1.80962973e+00,   1.79939288e+00,   1.79498641e+00,\n",
       "         1.78516123e+00,   1.76936451e+00,   1.76367540e+00,\n",
       "         1.75888313e+00,   1.74697359e+00,   1.74072011e+00,\n",
       "         1.73853051e+00,   1.72961438e+00,   1.71640328e+00,\n",
       "         1.70789308e+00,   1.69747501e+00,   1.69136455e+00,\n",
       "         1.68771024e+00,   1.67316665e+00,   1.66886095e+00,\n",
       "         1.64761890e+00,   1.63630945e+00,   1.63070917e+00,\n",
       "         1.62423427e+00,   1.61462495e+00,   1.60500711e+00,\n",
       "         1.58958746e+00,   1.58567210e+00,   1.57404822e+00,\n",
       "         1.56795054e+00,   1.55163340e+00,   1.54027459e+00,\n",
       "         1.53070874e+00,   1.51765625e+00,   1.51456650e+00,\n",
       "         1.50507953e+00,   1.49657495e+00,   1.48700541e+00,\n",
       "         1.48282660e+00,   1.48034701e+00,   1.45417472e+00,\n",
       "         1.44638689e+00,   1.43708481e+00,   1.43079690e+00,\n",
       "         1.42705387e+00,   1.40253243e+00,   1.38961745e+00,\n",
       "         1.38356917e+00,   1.37248825e+00,   1.36508086e+00,\n",
       "         1.35621822e+00,   1.33974671e+00,   1.33385383e+00,\n",
       "         1.33181740e+00,   1.32289038e+00,   1.31151825e+00,\n",
       "         1.30266774e+00,   1.29575171e+00,   1.28972572e+00,\n",
       "         1.27395791e+00,   1.26319111e+00,   1.25992490e+00,\n",
       "         1.24380681e+00,   1.23016975e+00,   1.23005940e+00,\n",
       "         1.21715372e+00,   1.20767744e+00,   1.19808258e+00,\n",
       "         1.19486895e+00,   1.17830756e+00,   1.16606520e+00,\n",
       "         1.16331107e+00,   1.15263219e+00,   1.15010409e+00,\n",
       "         1.13549495e+00,   1.13429860e+00,   1.11607200e+00,\n",
       "         1.10713485e+00,   1.10663241e+00,   1.09438820e+00,\n",
       "         1.09059946e+00,   1.08067651e+00,   1.07506271e+00,\n",
       "         1.06658024e+00,   1.06159999e+00,   1.05658342e+00,\n",
       "         1.04777664e+00,   1.03810761e+00,   1.03299165e+00,\n",
       "         1.02799203e+00,   1.02132735e+00,   1.01299848e+00,\n",
       "         1.00799704e+00,   1.00000000e+00,   1.00000000e+00,\n",
       "         9.97151293e-01,   9.95646653e-01,   9.92377954e-01,\n",
       "         9.91093970e-01,   9.88720232e-01,   9.87577772e-01,\n",
       "         9.86873498e-01,   9.78684152e-01,   9.78097749e-01,\n",
       "         9.75592917e-01,   9.73164909e-01,   9.70631406e-01,\n",
       "         9.66533661e-01,   9.60145188e-01,   9.55902675e-01,\n",
       "         9.52086327e-01,   9.48015987e-01,   9.44924709e-01,\n",
       "         9.28371887e-01,   9.09968959e-01,   9.08495993e-01,\n",
       "         9.05365913e-01,   8.96691589e-01,   8.81762234e-01,\n",
       "         8.65122835e-01,   8.53057696e-01,   8.48314426e-01,\n",
       "         8.39616121e-01,   8.33471361e-01,   8.23228199e-01,\n",
       "         8.12138781e-01,   7.97612585e-01,   7.84907175e-01,\n",
       "         7.71300265e-01,   7.60149739e-01,   7.56924159e-01,\n",
       "         7.51075704e-01,   7.43328867e-01,   7.25717885e-01,\n",
       "         7.15666246e-01,   7.04395015e-01,   6.99101196e-01,\n",
       "         6.91625676e-01,   6.78114990e-01,   6.73228217e-01,\n",
       "         6.59772497e-01,   6.56037259e-01,   6.42698362e-01,\n",
       "         6.26688782e-01,   6.15608898e-01,   6.11677828e-01,\n",
       "         6.09907904e-01,   5.94162404e-01,   5.82797981e-01,\n",
       "         5.81314355e-01,   5.76307450e-01,   5.17766691e-01,\n",
       "         4.98033321e-01,   4.93127928e-01,   4.87002388e-01,\n",
       "         4.74889484e-01,   4.54666156e-01,   4.42244880e-01,\n",
       "         4.01197648e-01,   3.96104245e-01,   3.68386761e-01,\n",
       "         3.52762180e-01,   3.25557926e-01,   3.00974784e-01,\n",
       "         2.82709464e-01,   2.68497243e-01,   2.45784298e-14,\n",
       "         4.38358974e-15,   4.38358974e-15,   4.38358974e-15,\n",
       "         4.38358974e-15,   4.38358974e-15,   4.38358974e-15,\n",
       "         1.35360768e-15,   7.67704043e-16,   7.63703710e-16])"
      ]
     },
     "execution_count": 40,
     "metadata": {},
     "output_type": "execute_result"
    },
    {
     "data": {
      "text/plain": [
       "array([[ -2.21822365e-03,  -1.13697491e-03,  -8.25820256e-03, ...,\n",
       "         -7.89214713e-03,  -2.78398235e-02,  -3.49679488e-04],\n",
       "       [  2.07736845e-03,   3.86642452e-04,   1.51981454e-03, ...,\n",
       "         -1.56120895e-02,   9.70825293e-04,  -4.30034249e-04],\n",
       "       [ -4.32111291e-04,   2.46676561e-03,   4.28288891e-03, ...,\n",
       "          1.20613591e-02,   1.21832171e-02,   1.08416259e-03],\n",
       "       ..., \n",
       "       [  0.00000000e+00,   3.15631941e-16,   1.84475856e-16, ...,\n",
       "          5.48706963e-17,   9.44710455e-17,   1.23662293e-16],\n",
       "       [  0.00000000e+00,  -2.38531913e-16,   2.65894675e-18, ...,\n",
       "          1.71338757e-16,   7.09063975e-17,  -1.89755859e-16],\n",
       "       [  0.00000000e+00,   2.26402240e-17,   3.39637767e-16, ...,\n",
       "         -7.85447059e-17,  -6.56620070e-17,  -9.63564231e-17]])"
      ]
     },
     "execution_count": 40,
     "metadata": {},
     "output_type": "execute_result"
    }
   ],
   "source": [
    "# Perform SVD on the User-Item Matrix Here\n",
    "user_item_matrix.shape\n",
    "u, s, vt = np.linalg.svd(user_item_matrix)# use the built in to get the three matrices\n",
    "u.shape, s.shape, vt.shape\n",
    "u\n",
    "s\n",
    "vt"
   ]
  },
  {
   "cell_type": "code",
   "execution_count": 41,
   "metadata": {},
   "outputs": [
    {
     "data": {
      "text/plain": [
       "0"
      ]
     },
     "execution_count": 41,
     "metadata": {},
     "output_type": "execute_result"
    }
   ],
   "source": [
    "#we check the number of missing values\n",
    "arr = np.array(user_item_matrix)\n",
    "num_missing_values = np.count_nonzero(~np.isnan(arr)) - len(arr)*len(arr[0])\n",
    "num_missing_values"
   ]
  },
  {
   "cell_type": "markdown",
   "metadata": {},
   "source": [
    "We can perform SVD because there is no nan value in the user_item_matrix matrix. In the course, we couldn't perform it on account of missing value"
   ]
  },
  {
   "cell_type": "markdown",
   "metadata": {},
   "source": [
    "`3.` Now for the tricky part, how do we choose the number of latent features to use?  Running the below cell, you can see that as the number of latent features increases, we obtain a lower error rate on making predictions for the 1 and 0 values in the user-item matrix.  Run the cell below to get an idea of how the accuracy improves as we increase the number of latent features."
   ]
  },
  {
   "cell_type": "code",
   "execution_count": 42,
   "metadata": {},
   "outputs": [
    {
     "data": {
      "image/png": "[encoded data removed]",
      "text/plain": [
       "<matplotlib.figure.Figure at 0x7f1c056e4dd8>"
      ]
     },
     "metadata": {
      "needs_background": "light"
     },
     "output_type": "display_data"
    }
   ],
   "source": [
    "num_latent_feats = np.arange(10,700+10,20)\n",
    "sum_errs = []\n",
    "\n",
    "for k in num_latent_feats:\n",
    "    # restructure with k latent features\n",
    "    s_new, u_new, vt_new = np.diag(s[:k]), u[:, :k], vt[:k, :]\n",
    "    \n",
    "    # take dot product\n",
    "    user_item_est = np.around(np.dot(np.dot(u_new, s_new), vt_new))\n",
    "    \n",
    "    # compute error for each prediction to actual value\n",
    "    diffs = np.subtract(user_item_matrix, user_item_est)\n",
    "    \n",
    "    # total errors and keep track of them\n",
    "    err = np.sum(np.sum(np.abs(diffs)))\n",
    "    sum_errs.append(err)\n",
    "    \n",
    "    \n",
    "plt.plot(num_latent_feats, 1 - np.array(sum_errs)/df.shape[0]);\n",
    "plt.xlabel('Number of Latent Features');\n",
    "plt.ylabel('Accuracy');\n",
    "plt.title('Accuracy vs. Number of Latent Features');"
   ]
  },
  {
   "cell_type": "markdown",
   "metadata": {},
   "source": [
    "`4.` From the above, we can't really be sure how many features to use, because simply having a better way to predict the 1's and 0's of the matrix doesn't exactly give us an indication of if we are able to make good recommendations.  Instead, we might split our dataset into a training and test set of data, as shown in the cell below.  \n",
    "\n",
    "Use the code from question 3 to understand the impact on accuracy of the training and test sets of data with different numbers of latent features. Using the split below: \n",
    "\n",
    "* How many users can we make predictions for in the test set?  \n",
    "* How many users are we not able to make predictions for because of the cold start problem?\n",
    "* How many articles can we make predictions for in the test set?  \n",
    "* How many articles are we not able to make predictions for because of the cold start problem?"
   ]
  },
  {
   "cell_type": "code",
   "execution_count": 43,
   "metadata": {},
   "outputs": [],
   "source": [
    "def create_test_and_train_user_item(df_train, df_test):\n",
    "    '''\n",
    "    INPUT:\n",
    "    df_train - training dataframe\n",
    "    df_test - test dataframe\n",
    "    \n",
    "    OUTPUT:\n",
    "    user_item_train - a user-item matrix of the training dataframe \n",
    "                      (unique users for each row and unique articles for each column)\n",
    "    user_item_test - a user-item matrix of the testing dataframe \n",
    "                    (unique users for each row and unique articles for each column)\n",
    "    test_idx - all of the test user ids\n",
    "    test_arts - all of the test article ids\n",
    "    \n",
    "    '''\n",
    "    #user_item_train\n",
    "    user_item_train = df_train.groupby(['user_id','article_id']).\\\n",
    "        min().reset_index()[['user_id','article_id']]\n",
    "    user_item_train['value'] = 1\n",
    "    user_item_train = user_item_train.\\\n",
    "        groupby(['user_id','article_id']).min()['value'].unstack()\n",
    "    user_item_train = user_item_train.fillna(0).astype('int32')\n",
    "    \n",
    "    #user_item_test\n",
    "    user_item_test = df_test.groupby(['user_id','article_id']).\\\n",
    "        min().reset_index()[['user_id','article_id']]\n",
    "    user_item_test['value'] = 1\n",
    "    user_item_test = user_item_test.\\\n",
    "        groupby(['user_id','article_id']).min()['value'].unstack()\n",
    "    user_item_test = user_item_test.fillna(0).astype('int32')    \n",
    "    \n",
    "    #test_idx\n",
    "    test_idx = user_item_test.index.values#.tolist() \n",
    "    \n",
    "    #test_arts\n",
    "    test_arts = user_item_test.columns#.tolist()\n",
    "    \n",
    "    return user_item_train, user_item_test, test_idx, test_arts\n",
    "\n"
   ]
  },
  {
   "cell_type": "code",
   "execution_count": 44,
   "metadata": {},
   "outputs": [],
   "source": [
    "train_size = 40000\n",
    "test_size = df.shape[0]-train_size\n",
    "df_train = df.head(train_size)\n",
    "df_test = df.tail(test_size)\n",
    "\n",
    "user_item_train, user_item_test, test_idx, test_arts =\\\n",
    "    create_test_and_train_user_item(df_train, df_test)"
   ]
  },
  {
   "cell_type": "code",
   "execution_count": 45,
   "metadata": {},
   "outputs": [
    {
     "data": {
      "text/plain": [
       "20"
      ]
     },
     "execution_count": 45,
     "metadata": {},
     "output_type": "execute_result"
    },
    {
     "data": {
      "text/plain": [
       "662"
      ]
     },
     "execution_count": 45,
     "metadata": {},
     "output_type": "execute_result"
    },
    {
     "data": {
      "text/plain": [
       "574"
      ]
     },
     "execution_count": 45,
     "metadata": {},
     "output_type": "execute_result"
    },
    {
     "data": {
      "text/plain": [
       "0"
      ]
     },
     "execution_count": 45,
     "metadata": {},
     "output_type": "execute_result"
    }
   ],
   "source": [
    "#user_ids in the training set\n",
    "train_idx = user_item_train.index.values\n",
    "\n",
    "#common user ids between train and test sets\n",
    "len(np.intersect1d(test_idx,train_idx))\n",
    "est_test_idx = np.intersect1d(test_idx,train_idx)\n",
    "\n",
    "#user ids we cannot predict\n",
    "len(test_idx)-len(est_test_idx)\n",
    "\n",
    "#article ids in the training set\n",
    "train_arts = user_item_train.columns.values\n",
    "\n",
    "#common article ids between train and test sets\n",
    "len(np.intersect1d(test_arts,train_arts))\n",
    "est_test_arts = np.intersect1d(test_arts,train_arts)\n",
    "\n",
    "#article ids we cannot predict\n",
    "user_item_test.shape[1]-len(est_test_arts)\n"
   ]
  },
  {
   "cell_type": "code",
   "execution_count": 46,
   "metadata": {},
   "outputs": [
    {
     "name": "stdout",
     "output_type": "stream",
     "text": [
      "Awesome job!  That's right!  All of the test movies are in the training data, but there are only 20 test users that were also in the training set.  All of the other users that are in the test set we have no data on.  Therefore, we cannot make predictions for these users using SVD.\n"
     ]
    }
   ],
   "source": [
    "# Replace the values in the dictionary below\n",
    "a = 662 \n",
    "b = 574 \n",
    "c = 20 \n",
    "d = 0 \n",
    "\n",
    "\n",
    "sol_4_dict = {\n",
    "    'How many users can we make predictions for in the test set?': c, \n",
    "    'How many users in the test set are we not able to make predictions for because of the cold start problem?': a, \n",
    "    'How many movies can we make predictions for in the test set?': b,\n",
    "    'How many movies in the test set are we not able to make predictions for because of the cold start problem?': d \n",
    "}\n",
    "\n",
    "t.sol_4_test(sol_4_dict)\n",
    "\n"
   ]
  },
  {
   "cell_type": "markdown",
   "metadata": {},
   "source": [
    "`5.` Now use the **user_item_train** dataset from above to find U, S, and V transpose using SVD. Then find the subset of rows in the **user_item_test** dataset that you can predict using this matrix decomposition with different numbers of latent features to see how many features makes sense to keep based on the accuracy on the test data. This will require combining what was done in questions `2` - `4`.\n",
    "\n",
    "Use the cells below to explore how well SVD works towards making predictions for recommendations on the test data.  "
   ]
  },
  {
   "cell_type": "code",
   "execution_count": 47,
   "metadata": {
    "scrolled": false
   },
   "outputs": [],
   "source": [
    "# Use these cells to see how well you can use the training \n",
    "# decomposition to predict on test data\n",
    "\n",
    "def predict(train_size,df):\n",
    "    \"\"\"\n",
    "    INPUT :\n",
    "        - train_size : the size of the training set\n",
    "        - df : the dataframe df.\n",
    "    OUTPUT :\n",
    "        - call the function create_test_and_train_user_item to create \n",
    "        user_item_train, user_item_test, test_idx, test_arts\n",
    "        - create the SVD components from user_item_train\n",
    "        - By iterating over a list of number of features : calculate the \n",
    "        predictions and the associated errors for the test and train sets,\n",
    "        based on common user ids and article ids.\n",
    "        - produce a plot of accuracy vs number of features for both the test \n",
    "        and train sets.\n",
    "    \"\"\"\n",
    "\n",
    "    test_size = df.shape[0]-train_size\n",
    "    df_train = df.head(train_size)\n",
    "    df_test = df.tail(test_size)\n",
    "    \n",
    "    user_item_train, user_item_test, test_idx, test_arts =\\\n",
    "        create_test_and_train_user_item(df_train, df_test)\n",
    "\n",
    "    u_train, s_train, vt_train = np.linalg.svd(user_item_train)\n",
    "        \n",
    "    train_idx = user_item_train.index.values\n",
    "    est_test_idx = np.intersect1d(test_idx,train_idx)\n",
    "\n",
    "    train_arts = user_item_train.columns.values\n",
    "    est_test_arts = np.intersect1d(test_arts,train_arts)\n",
    "\n",
    "    num_latent_feats = np.arange(10,len(est_test_arts),20)\n",
    "\n",
    "    training_sum_errs = []\n",
    "    test_sum_errs = []\n",
    "    diff_err_arr = []\n",
    "\n",
    "    for k in num_latent_feats:\n",
    "\n",
    "        # restructure with k latent features\n",
    "        s_test_new, u_test_new, vt_test_new = np.diag(s_train[:k]),\\\n",
    "            u_train[user_item_train.index.isin(est_test_idx), :k],\\\n",
    "            vt_train[:k, user_item_train.columns.isin(est_test_arts)]\n",
    "\n",
    "        # take dot product\n",
    "        try :\n",
    "            user_item_test_est = np.around(np.dot(np.dot(u_test_new, s_test_new), vt_test_new))\n",
    "\n",
    "        except ValueError :\n",
    "            break\n",
    "            \n",
    "        # compute error for each prediction to actual value\n",
    "        test_diffs = np.subtract(np.array(user_item_test.loc[est_test_idx,est_test_arts]),\\\n",
    "                                     user_item_test_est)\n",
    "        training_diffs = np.subtract(np.array(user_item_train.loc[est_test_idx,est_test_arts]),\\\n",
    "                                     user_item_test_est)\n",
    "\n",
    "        # total errors and keep track of them\n",
    "        test_err = np.sum(np.sum(np.abs(test_diffs)))\n",
    "        test_sum_errs.append(test_err)\n",
    "\n",
    "        training_err = np.sum(np.sum(np.abs(training_diffs)))\n",
    "        training_sum_errs.append(training_err)    \n",
    "        \n",
    "    #plot both test and train scores:\n",
    "    plt.figure(figsize=(15,10)) \n",
    "    plt.plot(num_latent_feats, 1 - np.array(test_sum_errs)/df.shape[0], label='test set', color = 'green')\n",
    "    plt.plot(num_latent_feats, 1 - np.array(training_sum_errs)/df.shape[0], label='training set', color = 'purple')\n",
    "\n",
    "    plt.legend()\n",
    "    plt.xlabel('Number of Latent Features',fontsize=20)\n",
    "    plt.ylabel('Accuracy',fontsize=20)\n",
    "    plt.title('Accuracy vs. Number of Latent Features',fontsize=20)\n",
    "    plt.show()"
   ]
  },
  {
   "cell_type": "code",
   "execution_count": 48,
   "metadata": {},
   "outputs": [
    {
     "data": {
      "image/png": "[encoded data removed]",
      "text/plain": [
       "<matplotlib.figure.Figure at 0x7f1c159d7d30>"
      ]
     },
     "metadata": {
      "needs_background": "light"
     },
     "output_type": "display_data"
    }
   ],
   "source": [
    "predict(40000,df)"
   ]
  },
  {
   "cell_type": "code",
   "execution_count": 49,
   "metadata": {},
   "outputs": [
    {
     "data": {
      "image/png": "[encoded data removed]",
      "text/plain": [
       "<matplotlib.figure.Figure at 0x7f1c159d7d30>"
      ]
     },
     "metadata": {
      "needs_background": "light"
     },
     "output_type": "display_data"
    }
   ],
   "source": [
    "predict(28000,df)"
   ]
  },
  {
   "cell_type": "markdown",
   "metadata": {
    "collapsed": true
   },
   "source": [
    "`6.` Use the cell below to comment on the results you found in the previous question. Given the circumstances of your results, discuss what you might do to determine if the recommendations you make with any of the above recommendation systems are an improvement to how users currently find articles? "
   ]
  },
  {
   "cell_type": "markdown",
   "metadata": {},
   "source": [
    "**What can we conclude from the above results?**\n",
    "\n",
    "We can observe that the accuracy is increasing along with the number of latent features for the training set, while it is the opposite for the test set.\n",
    "This is an indication of overfitting and we should then opt for a low number of features.\n",
    "\n",
    "Let's notice that if we decrease the size of the training set to between 13000 and 28000 rows, we can see the accuracy in the test set is faring better than in the training set, on condition that the number of features remains low. From the above graph, we can notice that the ideal number of features is set around 40. \n",
    "\n",
    "**Is accuracy a good metric to use here in this case? Does it provide us with a fair assessment of the model's performance?**\n",
    "\n",
    "Basically, because we have only predicted 0s or 1s in our recommendations, the accuracy metric may not be a good indicator of whether the intended user would read or like them. Ideally, we would have been better off using user ratings instead of interactions. As a consequence, a good accuracy with the metric we used doesn't mean we made good recommendations.\n",
    "\n",
    "**Is the current assessment framework robust enough to make conclusive results about the model?**\n",
    "\n",
    "Using the SVD matrix factorization comes with a substantial drawback : we can only make predictions if the users and articles in the test set are existing on the training set.\n",
    "We could complement SVD with other techniques like rank based recommendations to deal with new users or articles in the test set.\n",
    "\n",
    "In our example of training set size of 40000, we could only predict for 20 users, which is not enough and there were 662 users we couldn't predict for...\n",
    "\n",
    "**How could we validate the recommendations through A/B testing?**\n",
    "\n",
    "As the recommendations are going online, we could use A/B testing to check if our new recommendations engine leads to more reads, clicks or ratings. \n",
    "\n",
    "In the online experiment, we would use a cookie-based diversion, wherein the user will be proposed randomly the new recommendations based on our model (experiment group) or the latest articles (control group), and we would record whether or not they click on the links to the recommended articles. \n",
    "\n",
    "The number of clicks would be the evaluation metric. If we observe an increase of this metric for the experiment group using our recommendations, this would validate the new recommendation model. \n",
    "The length of the experiment would depend on the statistical power required to validate the change in the recommendation model. Ex : if we observe that 10% of the control group tends to click on the pages of the most recent articles proposed, we could require a 12% for the experimental group."
   ]
  },
  {
   "cell_type": "markdown",
   "metadata": {
    "collapsed": true
   },
   "source": [
    "<a id='conclusions'></a>\n",
    "### Extras\n",
    "Using your workbook, you could now save your recommendations for each user, develop a class to make new predictions and update your results, and make a flask app to deploy your results.  These tasks are beyond what is required for this project.  However, from what you learned in the lessons, you certainly capable of taking these tasks on to improve upon your work here!\n",
    "\n",
    "\n",
    "## Conclusion\n",
    "\n",
    "> Congratulations!  You have reached the end of the Recommendations with IBM project! \n",
    "\n",
    "\n",
    "## Directions to Submit\n",
    "\n",
    "> Before you submit your project, you need to create a .html or .pdf version of this notebook in the workspace here. To do that, run the code cell below. If it worked correctly, you should get a return code of 0, and you should see the generated .html file in the workspace directory (click on the orange Jupyter icon in the upper left).\n",
    "\n",
    "> Alternatively, you can download this report as .html via the **File** > **Download as** submenu, and then manually upload it into the workspace directory by clicking on the orange Jupyter icon in the upper left, then using the Upload button.\n",
    "\n",
    "> Once you've done this, you can submit your project by clicking on the \"Submit Project\" button in the lower right here. This will create and submit a zip file with this .ipynb doc and the .html or .pdf version you created. Congratulations! "
   ]
  },
  {
   "cell_type": "code",
   "execution_count": 50,
   "metadata": {},
   "outputs": [
    {
     "data": {
      "text/plain": [
       "0"
      ]
     },
     "execution_count": 50,
     "metadata": {},
     "output_type": "execute_result"
    }
   ],
   "source": [
    "from subprocess import call\n",
    "call(['python', '-m', 'nbconvert', 'Recommendations_with_IBM.ipynb'])"
   ]
  }
 ],
 "metadata": {
  "kernelspec": {
   "display_name": "Python 3",
   "language": "python",
   "name": "python3"
  },
  "language_info": {
   "codemirror_mode": {
    "name": "ipython",
    "version": 3
   },
   "file_extension": ".py",
   "mimetype": "text/x-python",
   "name": "python",
   "nbconvert_exporter": "python",
   "pygments_lexer": "ipython3",
   "version": "3.6.3"
  }
 },
 "nbformat": 4,
 "nbformat_minor": 2
}
